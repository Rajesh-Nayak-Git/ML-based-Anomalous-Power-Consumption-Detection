{
 "cells": [
  {
   "cell_type": "code",
   "execution_count": 1,
   "id": "1089fffb",
   "metadata": {},
   "outputs": [],
   "source": [
    "import pandas as pd\n",
    "import numpy as np\n",
    "import matplotlib.pyplot as plt\n",
    "from sklearn.model_selection import train_test_split\n",
    "from sklearn.metrics import precision_score, recall_score, accuracy_score, f1_score\n",
    "from sklearn.metrics import confusion_matrix\n",
    "# from mlxtend.plotting import plot_confusion_matrix"
   ]
  },
  {
   "cell_type": "code",
   "execution_count": 2,
   "id": "1759a589",
   "metadata": {},
   "outputs": [],
   "source": [
    "df1=pd.read_csv(\"Training-SimDataset.csv\")"
   ]
  },
  {
   "cell_type": "code",
   "execution_count": 3,
   "id": "0df70f84",
   "metadata": {
    "scrolled": true
   },
   "outputs": [
    {
     "data": {
      "text/html": [
       "<div>\n",
       "<style scoped>\n",
       "    .dataframe tbody tr th:only-of-type {\n",
       "        vertical-align: middle;\n",
       "    }\n",
       "\n",
       "    .dataframe tbody tr th {\n",
       "        vertical-align: top;\n",
       "    }\n",
       "\n",
       "    .dataframe thead th {\n",
       "        text-align: right;\n",
       "    }\n",
       "</style>\n",
       "<table border=\"1\" class=\"dataframe\">\n",
       "  <thead>\n",
       "    <tr style=\"text-align: right;\">\n",
       "      <th></th>\n",
       "      <th>Occupancy</th>\n",
       "      <th>Appliance ID</th>\n",
       "      <th>Sin(time)</th>\n",
       "      <th>Cos(time)</th>\n",
       "      <th>Sin(day)</th>\n",
       "      <th>Cos(day)</th>\n",
       "      <th>Power consumption</th>\n",
       "      <th>Normalized power</th>\n",
       "      <th>P(t)-P(t-1)</th>\n",
       "      <th>P(t)-P(t+1)</th>\n",
       "      <th>Class Label</th>\n",
       "    </tr>\n",
       "  </thead>\n",
       "  <tbody>\n",
       "    <tr>\n",
       "      <th>0</th>\n",
       "      <td>0</td>\n",
       "      <td>1</td>\n",
       "      <td>-0.96593</td>\n",
       "      <td>2.588200e-01</td>\n",
       "      <td>-0.999250</td>\n",
       "      <td>0.038722</td>\n",
       "      <td>100</td>\n",
       "      <td>-0.17234</td>\n",
       "      <td>0</td>\n",
       "      <td>0</td>\n",
       "      <td>4</td>\n",
       "    </tr>\n",
       "    <tr>\n",
       "      <th>1</th>\n",
       "      <td>1</td>\n",
       "      <td>5</td>\n",
       "      <td>1.00000</td>\n",
       "      <td>6.120000e-17</td>\n",
       "      <td>-0.816540</td>\n",
       "      <td>-0.577290</td>\n",
       "      <td>685</td>\n",
       "      <td>0.15266</td>\n",
       "      <td>-675</td>\n",
       "      <td>-631</td>\n",
       "      <td>0</td>\n",
       "    </tr>\n",
       "    <tr>\n",
       "      <th>2</th>\n",
       "      <td>0</td>\n",
       "      <td>4</td>\n",
       "      <td>-0.50000</td>\n",
       "      <td>-8.660300e-01</td>\n",
       "      <td>-0.263670</td>\n",
       "      <td>-0.964610</td>\n",
       "      <td>719</td>\n",
       "      <td>0.17155</td>\n",
       "      <td>206</td>\n",
       "      <td>-629</td>\n",
       "      <td>4</td>\n",
       "    </tr>\n",
       "    <tr>\n",
       "      <th>3</th>\n",
       "      <td>1</td>\n",
       "      <td>4</td>\n",
       "      <td>0.25882</td>\n",
       "      <td>9.659300e-01</td>\n",
       "      <td>-0.094537</td>\n",
       "      <td>-0.995520</td>\n",
       "      <td>771</td>\n",
       "      <td>0.20044</td>\n",
       "      <td>200</td>\n",
       "      <td>-190</td>\n",
       "      <td>0</td>\n",
       "    </tr>\n",
       "    <tr>\n",
       "      <th>4</th>\n",
       "      <td>0</td>\n",
       "      <td>3</td>\n",
       "      <td>-0.70711</td>\n",
       "      <td>-7.071100e-01</td>\n",
       "      <td>0.811540</td>\n",
       "      <td>0.584300</td>\n",
       "      <td>5</td>\n",
       "      <td>-0.22512</td>\n",
       "      <td>2</td>\n",
       "      <td>-1</td>\n",
       "      <td>0</td>\n",
       "    </tr>\n",
       "    <tr>\n",
       "      <th>...</th>\n",
       "      <td>...</td>\n",
       "      <td>...</td>\n",
       "      <td>...</td>\n",
       "      <td>...</td>\n",
       "      <td>...</td>\n",
       "      <td>...</td>\n",
       "      <td>...</td>\n",
       "      <td>...</td>\n",
       "      <td>...</td>\n",
       "      <td>...</td>\n",
       "      <td>...</td>\n",
       "    </tr>\n",
       "    <tr>\n",
       "      <th>84091</th>\n",
       "      <td>0</td>\n",
       "      <td>1</td>\n",
       "      <td>-0.86603</td>\n",
       "      <td>-5.000000e-01</td>\n",
       "      <td>0.811540</td>\n",
       "      <td>0.584300</td>\n",
       "      <td>100</td>\n",
       "      <td>-0.17234</td>\n",
       "      <td>100</td>\n",
       "      <td>0</td>\n",
       "      <td>1</td>\n",
       "    </tr>\n",
       "    <tr>\n",
       "      <th>84092</th>\n",
       "      <td>1</td>\n",
       "      <td>4</td>\n",
       "      <td>0.70711</td>\n",
       "      <td>7.071100e-01</td>\n",
       "      <td>-0.845250</td>\n",
       "      <td>-0.534370</td>\n",
       "      <td>740</td>\n",
       "      <td>0.18322</td>\n",
       "      <td>-524</td>\n",
       "      <td>-51</td>\n",
       "      <td>0</td>\n",
       "    </tr>\n",
       "    <tr>\n",
       "      <th>84093</th>\n",
       "      <td>1</td>\n",
       "      <td>5</td>\n",
       "      <td>-0.96593</td>\n",
       "      <td>2.588200e-01</td>\n",
       "      <td>-0.068802</td>\n",
       "      <td>0.997630</td>\n",
       "      <td>1181</td>\n",
       "      <td>0.42822</td>\n",
       "      <td>48</td>\n",
       "      <td>501</td>\n",
       "      <td>0</td>\n",
       "    </tr>\n",
       "    <tr>\n",
       "      <th>84094</th>\n",
       "      <td>1</td>\n",
       "      <td>0</td>\n",
       "      <td>0.25882</td>\n",
       "      <td>-9.659300e-01</td>\n",
       "      <td>0.806480</td>\n",
       "      <td>-0.591260</td>\n",
       "      <td>0</td>\n",
       "      <td>-0.22789</td>\n",
       "      <td>0</td>\n",
       "      <td>0</td>\n",
       "      <td>0</td>\n",
       "    </tr>\n",
       "    <tr>\n",
       "      <th>84095</th>\n",
       "      <td>0</td>\n",
       "      <td>0</td>\n",
       "      <td>-1.00000</td>\n",
       "      <td>-1.840000e-16</td>\n",
       "      <td>0.936880</td>\n",
       "      <td>-0.349650</td>\n",
       "      <td>60</td>\n",
       "      <td>-0.19456</td>\n",
       "      <td>0</td>\n",
       "      <td>0</td>\n",
       "      <td>4</td>\n",
       "    </tr>\n",
       "  </tbody>\n",
       "</table>\n",
       "<p>84096 rows × 11 columns</p>\n",
       "</div>"
      ],
      "text/plain": [
       "       Occupancy  Appliance ID  Sin(time)     Cos(time)  Sin(day)  Cos(day)  \\\n",
       "0              0             1   -0.96593  2.588200e-01 -0.999250  0.038722   \n",
       "1              1             5    1.00000  6.120000e-17 -0.816540 -0.577290   \n",
       "2              0             4   -0.50000 -8.660300e-01 -0.263670 -0.964610   \n",
       "3              1             4    0.25882  9.659300e-01 -0.094537 -0.995520   \n",
       "4              0             3   -0.70711 -7.071100e-01  0.811540  0.584300   \n",
       "...          ...           ...        ...           ...       ...       ...   \n",
       "84091          0             1   -0.86603 -5.000000e-01  0.811540  0.584300   \n",
       "84092          1             4    0.70711  7.071100e-01 -0.845250 -0.534370   \n",
       "84093          1             5   -0.96593  2.588200e-01 -0.068802  0.997630   \n",
       "84094          1             0    0.25882 -9.659300e-01  0.806480 -0.591260   \n",
       "84095          0             0   -1.00000 -1.840000e-16  0.936880 -0.349650   \n",
       "\n",
       "       Power consumption  Normalized power  P(t)-P(t-1)  P(t)-P(t+1)  \\\n",
       "0                    100          -0.17234            0            0   \n",
       "1                    685           0.15266         -675         -631   \n",
       "2                    719           0.17155          206         -629   \n",
       "3                    771           0.20044          200         -190   \n",
       "4                      5          -0.22512            2           -1   \n",
       "...                  ...               ...          ...          ...   \n",
       "84091                100          -0.17234          100            0   \n",
       "84092                740           0.18322         -524          -51   \n",
       "84093               1181           0.42822           48          501   \n",
       "84094                  0          -0.22789            0            0   \n",
       "84095                 60          -0.19456            0            0   \n",
       "\n",
       "       Class Label  \n",
       "0                4  \n",
       "1                0  \n",
       "2                4  \n",
       "3                0  \n",
       "4                0  \n",
       "...            ...  \n",
       "84091            1  \n",
       "84092            0  \n",
       "84093            0  \n",
       "84094            0  \n",
       "84095            4  \n",
       "\n",
       "[84096 rows x 11 columns]"
      ]
     },
     "execution_count": 3,
     "metadata": {},
     "output_type": "execute_result"
    }
   ],
   "source": [
    "df1"
   ]
  },
  {
   "cell_type": "code",
   "execution_count": 4,
   "id": "eb2d4c2d",
   "metadata": {},
   "outputs": [],
   "source": [
    "x_train=df1.iloc[:,:-1]\n",
    "y_train=df1.iloc[:,-1:]"
   ]
  },
  {
   "cell_type": "code",
   "execution_count": null,
   "id": "6b99de5d",
   "metadata": {},
   "outputs": [],
   "source": [
    "# scaler = MinMaxScaler()\n",
    "# x_s = scaler.fit_transform(x)"
   ]
  },
  {
   "cell_type": "code",
   "execution_count": 5,
   "id": "3e6716ac",
   "metadata": {},
   "outputs": [
    {
     "data": {
      "text/plain": [
       "(84096, 84096)"
      ]
     },
     "execution_count": 5,
     "metadata": {},
     "output_type": "execute_result"
    }
   ],
   "source": [
    "len(x_train),len(y_train)"
   ]
  },
  {
   "cell_type": "code",
   "execution_count": 6,
   "id": "29753174",
   "metadata": {},
   "outputs": [],
   "source": [
    "import pickle"
   ]
  },
  {
   "cell_type": "code",
   "execution_count": 7,
   "id": "2a629263",
   "metadata": {},
   "outputs": [
    {
     "name": "stderr",
     "output_type": "stream",
     "text": [
      "C:\\Users\\admin\\AppData\\Local\\Temp\\ipykernel_16920\\2458475876.py:4: DataConversionWarning: A column-vector y was passed when a 1d array was expected. Please change the shape of y to (n_samples,), for example using ravel().\n",
      "  classifier.fit(x_train, y_train)\n"
     ]
    },
    {
     "data": {
      "text/plain": [
       "RandomForestClassifier(criterion='entropy')"
      ]
     },
     "execution_count": 7,
     "metadata": {},
     "output_type": "execute_result"
    }
   ],
   "source": [
    "# Random Forest Model\n",
    "from sklearn.ensemble import RandomForestClassifier\n",
    "classifier= RandomForestClassifier(n_estimators= 100, criterion=\"entropy\")\n",
    "classifier.fit(x_train, y_train)"
   ]
  },
  {
   "cell_type": "code",
   "execution_count": 8,
   "id": "95f64f1b",
   "metadata": {},
   "outputs": [
    {
     "name": "stderr",
     "output_type": "stream",
     "text": [
      "C:\\Users\\admin\\AppData\\Local\\Temp\\ipykernel_16920\\2845877680.py:2: DataConversionWarning: A column-vector y was passed when a 1d array was expected. Please change the shape of y to (n_samples,), for example using ravel().\n",
      "  classifier_a.fit(x_train, y_train)\n"
     ]
    },
    {
     "data": {
      "text/plain": [
       "RandomForestClassifier(criterion='entropy', n_estimators=200)"
      ]
     },
     "execution_count": 8,
     "metadata": {},
     "output_type": "execute_result"
    }
   ],
   "source": [
    "classifier_a = RandomForestClassifier(n_estimators=200, criterion=\"entropy\")\n",
    "classifier_a.fit(x_train, y_train)"
   ]
  },
  {
   "cell_type": "code",
   "execution_count": 9,
   "id": "6aced897",
   "metadata": {},
   "outputs": [
    {
     "name": "stderr",
     "output_type": "stream",
     "text": [
      "C:\\Users\\admin\\AppData\\Local\\Temp\\ipykernel_16920\\3886109723.py:2: DataConversionWarning: A column-vector y was passed when a 1d array was expected. Please change the shape of y to (n_samples,), for example using ravel().\n",
      "  classifier_b.fit(x_train, y_train)\n"
     ]
    },
    {
     "data": {
      "text/plain": [
       "RandomForestClassifier()"
      ]
     },
     "execution_count": 9,
     "metadata": {},
     "output_type": "execute_result"
    }
   ],
   "source": [
    "classifier_b = RandomForestClassifier(n_estimators=100, criterion=\"gini\")\n",
    "classifier_b.fit(x_train, y_train)"
   ]
  },
  {
   "cell_type": "code",
   "execution_count": 10,
   "id": "b34f02a2",
   "metadata": {},
   "outputs": [],
   "source": [
    "pt='RF.sav'\n",
    "pickle.dump(classifier,open(pt,'wb'))"
   ]
  },
  {
   "cell_type": "code",
   "execution_count": 11,
   "id": "27d3fd86",
   "metadata": {},
   "outputs": [],
   "source": [
    "df2=pd.read_csv(\"Testing-SimDataset.csv\")"
   ]
  },
  {
   "cell_type": "code",
   "execution_count": 12,
   "id": "7e018645",
   "metadata": {},
   "outputs": [
    {
     "data": {
      "text/html": [
       "<div>\n",
       "<style scoped>\n",
       "    .dataframe tbody tr th:only-of-type {\n",
       "        vertical-align: middle;\n",
       "    }\n",
       "\n",
       "    .dataframe tbody tr th {\n",
       "        vertical-align: top;\n",
       "    }\n",
       "\n",
       "    .dataframe thead th {\n",
       "        text-align: right;\n",
       "    }\n",
       "</style>\n",
       "<table border=\"1\" class=\"dataframe\">\n",
       "  <thead>\n",
       "    <tr style=\"text-align: right;\">\n",
       "      <th></th>\n",
       "      <th>Occupancy</th>\n",
       "      <th>Appliance ID</th>\n",
       "      <th>Sin(time)</th>\n",
       "      <th>Cos(time)</th>\n",
       "      <th>Sin(day)</th>\n",
       "      <th>Cos(day)</th>\n",
       "      <th>Power consumption</th>\n",
       "      <th>Normalized power</th>\n",
       "      <th>P(t)-P(t-1)</th>\n",
       "      <th>P(t)-P(t+1)</th>\n",
       "      <th>Class Label</th>\n",
       "    </tr>\n",
       "  </thead>\n",
       "  <tbody>\n",
       "    <tr>\n",
       "      <th>0</th>\n",
       "      <td>1</td>\n",
       "      <td>0</td>\n",
       "      <td>0.50000</td>\n",
       "      <td>-0.86603</td>\n",
       "      <td>0.89198</td>\n",
       "      <td>0.45207</td>\n",
       "      <td>0</td>\n",
       "      <td>-0.22789</td>\n",
       "      <td>0</td>\n",
       "      <td>0</td>\n",
       "      <td>0</td>\n",
       "    </tr>\n",
       "    <tr>\n",
       "      <th>1</th>\n",
       "      <td>0</td>\n",
       "      <td>1</td>\n",
       "      <td>0.86603</td>\n",
       "      <td>-0.50000</td>\n",
       "      <td>-0.29671</td>\n",
       "      <td>-0.95497</td>\n",
       "      <td>0</td>\n",
       "      <td>-0.22789</td>\n",
       "      <td>0</td>\n",
       "      <td>0</td>\n",
       "      <td>0</td>\n",
       "    </tr>\n",
       "    <tr>\n",
       "      <th>2</th>\n",
       "      <td>0</td>\n",
       "      <td>1</td>\n",
       "      <td>0.86603</td>\n",
       "      <td>0.50000</td>\n",
       "      <td>0.78030</td>\n",
       "      <td>0.62541</td>\n",
       "      <td>0</td>\n",
       "      <td>-0.22789</td>\n",
       "      <td>0</td>\n",
       "      <td>0</td>\n",
       "      <td>0</td>\n",
       "    </tr>\n",
       "    <tr>\n",
       "      <th>3</th>\n",
       "      <td>1</td>\n",
       "      <td>4</td>\n",
       "      <td>0.25882</td>\n",
       "      <td>-0.96593</td>\n",
       "      <td>0.92097</td>\n",
       "      <td>0.38963</td>\n",
       "      <td>0</td>\n",
       "      <td>-0.22789</td>\n",
       "      <td>0</td>\n",
       "      <td>0</td>\n",
       "      <td>0</td>\n",
       "    </tr>\n",
       "    <tr>\n",
       "      <th>4</th>\n",
       "      <td>1</td>\n",
       "      <td>3</td>\n",
       "      <td>0.50000</td>\n",
       "      <td>-0.86603</td>\n",
       "      <td>-0.78565</td>\n",
       "      <td>-0.61867</td>\n",
       "      <td>4</td>\n",
       "      <td>-0.22567</td>\n",
       "      <td>0</td>\n",
       "      <td>-1652</td>\n",
       "      <td>0</td>\n",
       "    </tr>\n",
       "    <tr>\n",
       "      <th>...</th>\n",
       "      <td>...</td>\n",
       "      <td>...</td>\n",
       "      <td>...</td>\n",
       "      <td>...</td>\n",
       "      <td>...</td>\n",
       "      <td>...</td>\n",
       "      <td>...</td>\n",
       "      <td>...</td>\n",
       "      <td>...</td>\n",
       "      <td>...</td>\n",
       "      <td>...</td>\n",
       "    </tr>\n",
       "    <tr>\n",
       "      <th>21019</th>\n",
       "      <td>1</td>\n",
       "      <td>0</td>\n",
       "      <td>0.50000</td>\n",
       "      <td>0.86603</td>\n",
       "      <td>-0.24702</td>\n",
       "      <td>-0.96901</td>\n",
       "      <td>0</td>\n",
       "      <td>-0.22789</td>\n",
       "      <td>0</td>\n",
       "      <td>0</td>\n",
       "      <td>0</td>\n",
       "    </tr>\n",
       "    <tr>\n",
       "      <th>21020</th>\n",
       "      <td>0</td>\n",
       "      <td>3</td>\n",
       "      <td>0.96593</td>\n",
       "      <td>0.25882</td>\n",
       "      <td>0.98293</td>\n",
       "      <td>-0.18400</td>\n",
       "      <td>2</td>\n",
       "      <td>-0.22678</td>\n",
       "      <td>-3</td>\n",
       "      <td>0</td>\n",
       "      <td>0</td>\n",
       "    </tr>\n",
       "    <tr>\n",
       "      <th>21021</th>\n",
       "      <td>1</td>\n",
       "      <td>2</td>\n",
       "      <td>0.86603</td>\n",
       "      <td>-0.50000</td>\n",
       "      <td>-0.95623</td>\n",
       "      <td>0.29260</td>\n",
       "      <td>1</td>\n",
       "      <td>-0.22734</td>\n",
       "      <td>-254</td>\n",
       "      <td>-2</td>\n",
       "      <td>2</td>\n",
       "    </tr>\n",
       "    <tr>\n",
       "      <th>21022</th>\n",
       "      <td>1</td>\n",
       "      <td>0</td>\n",
       "      <td>0.86603</td>\n",
       "      <td>-0.50000</td>\n",
       "      <td>0.58080</td>\n",
       "      <td>0.81405</td>\n",
       "      <td>0</td>\n",
       "      <td>-0.22789</td>\n",
       "      <td>0</td>\n",
       "      <td>0</td>\n",
       "      <td>0</td>\n",
       "    </tr>\n",
       "    <tr>\n",
       "      <th>21023</th>\n",
       "      <td>1</td>\n",
       "      <td>1</td>\n",
       "      <td>-0.86603</td>\n",
       "      <td>0.50000</td>\n",
       "      <td>-0.44052</td>\n",
       "      <td>-0.89774</td>\n",
       "      <td>100</td>\n",
       "      <td>-0.17234</td>\n",
       "      <td>0</td>\n",
       "      <td>0</td>\n",
       "      <td>0</td>\n",
       "    </tr>\n",
       "  </tbody>\n",
       "</table>\n",
       "<p>21024 rows × 11 columns</p>\n",
       "</div>"
      ],
      "text/plain": [
       "       Occupancy  Appliance ID  Sin(time)  Cos(time)  Sin(day)  Cos(day)  \\\n",
       "0              1             0    0.50000   -0.86603   0.89198   0.45207   \n",
       "1              0             1    0.86603   -0.50000  -0.29671  -0.95497   \n",
       "2              0             1    0.86603    0.50000   0.78030   0.62541   \n",
       "3              1             4    0.25882   -0.96593   0.92097   0.38963   \n",
       "4              1             3    0.50000   -0.86603  -0.78565  -0.61867   \n",
       "...          ...           ...        ...        ...       ...       ...   \n",
       "21019          1             0    0.50000    0.86603  -0.24702  -0.96901   \n",
       "21020          0             3    0.96593    0.25882   0.98293  -0.18400   \n",
       "21021          1             2    0.86603   -0.50000  -0.95623   0.29260   \n",
       "21022          1             0    0.86603   -0.50000   0.58080   0.81405   \n",
       "21023          1             1   -0.86603    0.50000  -0.44052  -0.89774   \n",
       "\n",
       "       Power consumption  Normalized power  P(t)-P(t-1)  P(t)-P(t+1)  \\\n",
       "0                      0          -0.22789            0            0   \n",
       "1                      0          -0.22789            0            0   \n",
       "2                      0          -0.22789            0            0   \n",
       "3                      0          -0.22789            0            0   \n",
       "4                      4          -0.22567            0        -1652   \n",
       "...                  ...               ...          ...          ...   \n",
       "21019                  0          -0.22789            0            0   \n",
       "21020                  2          -0.22678           -3            0   \n",
       "21021                  1          -0.22734         -254           -2   \n",
       "21022                  0          -0.22789            0            0   \n",
       "21023                100          -0.17234            0            0   \n",
       "\n",
       "       Class Label  \n",
       "0                0  \n",
       "1                0  \n",
       "2                0  \n",
       "3                0  \n",
       "4                0  \n",
       "...            ...  \n",
       "21019            0  \n",
       "21020            0  \n",
       "21021            2  \n",
       "21022            0  \n",
       "21023            0  \n",
       "\n",
       "[21024 rows x 11 columns]"
      ]
     },
     "execution_count": 12,
     "metadata": {},
     "output_type": "execute_result"
    }
   ],
   "source": [
    "df2"
   ]
  },
  {
   "cell_type": "code",
   "execution_count": 13,
   "id": "a182b591",
   "metadata": {},
   "outputs": [],
   "source": [
    "x_test=df2.iloc[:,:-1]\n",
    "y_test=df2.iloc[:,-1:]"
   ]
  },
  {
   "cell_type": "code",
   "execution_count": 14,
   "id": "e19535a1",
   "metadata": {},
   "outputs": [],
   "source": [
    "y_pred= classifier.predict(x_test)\n",
    "y_pred_a= classifier_a.predict(x_test)\n",
    "y_pred_b= classifier_b.predict(x_test)"
   ]
  },
  {
   "cell_type": "code",
   "execution_count": 15,
   "id": "5d719486",
   "metadata": {},
   "outputs": [
    {
     "name": "stdout",
     "output_type": "stream",
     "text": [
      "[[11926     0     0     0     0]\n",
      " [    0  1577     0     0     0]\n",
      " [    0     0  1536     0     0]\n",
      " [    0     0     0  1261     0]\n",
      " [    0     2     0     0  4722]]\n"
     ]
    }
   ],
   "source": [
    "#Confusion Matrix - verify accuracy of each class\n",
    "cm = confusion_matrix(y_test, y_pred)\n",
    "print(cm)"
   ]
  },
  {
   "cell_type": "code",
   "execution_count": 16,
   "id": "b3fbe53a",
   "metadata": {},
   "outputs": [
    {
     "name": "stdout",
     "output_type": "stream",
     "text": [
      "              precision    recall  f1-score   support\n",
      "\n",
      "     Class 0      1.000     1.000     1.000     11926\n",
      "     Class 1      0.999     1.000     0.999      1577\n",
      "     Class 2      1.000     1.000     1.000      1536\n",
      "     Class 3      1.000     1.000     1.000      1261\n",
      "     Class 4      1.000     1.000     1.000      4724\n",
      "\n",
      "    accuracy                          1.000     21024\n",
      "   macro avg      1.000     1.000     1.000     21024\n",
      "weighted avg      1.000     1.000     1.000     21024\n",
      "\n"
     ]
    }
   ],
   "source": [
    "from sklearn.metrics import classification_report\n",
    "\n",
    "# print(class_labels)\n",
    "target_names = ['Class 0', 'Class 1', 'Class 2', 'Class 3', 'Class 4']\n",
    "print(classification_report(y_test, y_pred, target_names=target_names,digits=3))"
   ]
  },
  {
   "cell_type": "code",
   "execution_count": 17,
   "id": "2391613b",
   "metadata": {},
   "outputs": [
    {
     "name": "stdout",
     "output_type": "stream",
     "text": [
      "              precision    recall  f1-score   support\n",
      "\n",
      "     Class 0      1.000     1.000     1.000     11926\n",
      "     Class 1      0.999     1.000     0.999      1577\n",
      "     Class 2      1.000     1.000     1.000      1536\n",
      "     Class 3      1.000     1.000     1.000      1261\n",
      "     Class 4      1.000     1.000     1.000      4724\n",
      "\n",
      "    accuracy                          1.000     21024\n",
      "   macro avg      1.000     1.000     1.000     21024\n",
      "weighted avg      1.000     1.000     1.000     21024\n",
      "\n"
     ]
    }
   ],
   "source": [
    "target_names = ['Class 0', 'Class 1', 'Class 2', 'Class 3', 'Class 4']\n",
    "print(classification_report(y_test, y_pred_a, target_names=target_names,digits=3))"
   ]
  },
  {
   "cell_type": "code",
   "execution_count": 18,
   "id": "8f88bd13",
   "metadata": {},
   "outputs": [
    {
     "name": "stdout",
     "output_type": "stream",
     "text": [
      "              precision    recall  f1-score   support\n",
      "\n",
      "     Class 0      1.000     1.000     1.000     11926\n",
      "     Class 1      0.998     1.000     0.999      1577\n",
      "     Class 2      1.000     1.000     1.000      1536\n",
      "     Class 3      1.000     1.000     1.000      1261\n",
      "     Class 4      1.000     0.999     1.000      4724\n",
      "\n",
      "    accuracy                          1.000     21024\n",
      "   macro avg      1.000     1.000     1.000     21024\n",
      "weighted avg      1.000     1.000     1.000     21024\n",
      "\n"
     ]
    }
   ],
   "source": [
    "target_names = ['Class 0', 'Class 1', 'Class 2', 'Class 3', 'Class 4']\n",
    "print(classification_report(y_test, y_pred_b, target_names=target_names,digits=3))"
   ]
  },
  {
   "cell_type": "code",
   "execution_count": null,
   "id": "bfd63394",
   "metadata": {},
   "outputs": [],
   "source": [
    "################################################################################################################################"
   ]
  },
  {
   "cell_type": "code",
   "execution_count": 19,
   "id": "c9f1e246",
   "metadata": {},
   "outputs": [
    {
     "name": "stderr",
     "output_type": "stream",
     "text": [
      "C:\\Users\\admin\\anaconda3\\lib\\site-packages\\sklearn\\utils\\validation.py:993: DataConversionWarning: A column-vector y was passed when a 1d array was expected. Please change the shape of y to (n_samples, ), for example using ravel().\n",
      "  y = column_or_1d(y, warn=True)\n"
     ]
    },
    {
     "data": {
      "text/plain": [
       "SVC(random_state=1)"
      ]
     },
     "execution_count": 19,
     "metadata": {},
     "output_type": "execute_result"
    }
   ],
   "source": [
    "from sklearn.svm import SVC\n",
    "classifier1 = SVC(kernel='rbf',random_state=1)\n",
    "classifier1.fit(x_train, y_train)"
   ]
  },
  {
   "cell_type": "code",
   "execution_count": 20,
   "id": "b28f4131",
   "metadata": {},
   "outputs": [
    {
     "name": "stderr",
     "output_type": "stream",
     "text": [
      "C:\\Users\\admin\\anaconda3\\lib\\site-packages\\sklearn\\utils\\validation.py:993: DataConversionWarning: A column-vector y was passed when a 1d array was expected. Please change the shape of y to (n_samples, ), for example using ravel().\n",
      "  y = column_or_1d(y, warn=True)\n"
     ]
    },
    {
     "data": {
      "text/plain": [
       "SVC(C=0.1, random_state=1)"
      ]
     },
     "execution_count": 20,
     "metadata": {},
     "output_type": "execute_result"
    }
   ],
   "source": [
    "classifier1_a = SVC(kernel='rbf', C=0.1, random_state=1)\n",
    "classifier1_a.fit(x_train, y_train)"
   ]
  },
  {
   "cell_type": "code",
   "execution_count": 22,
   "id": "56608f32",
   "metadata": {},
   "outputs": [
    {
     "name": "stderr",
     "output_type": "stream",
     "text": [
      "C:\\Users\\admin\\anaconda3\\lib\\site-packages\\sklearn\\utils\\validation.py:993: DataConversionWarning: A column-vector y was passed when a 1d array was expected. Please change the shape of y to (n_samples, ), for example using ravel().\n",
      "  y = column_or_1d(y, warn=True)\n"
     ]
    },
    {
     "data": {
      "text/plain": [
       "SVC(kernel='linear', random_state=1)"
      ]
     },
     "execution_count": 22,
     "metadata": {},
     "output_type": "execute_result"
    }
   ],
   "source": [
    "classifier1_b = SVC(kernel='linear', random_state=1)\n",
    "classifier1_b.fit(x_train, y_train)"
   ]
  },
  {
   "cell_type": "code",
   "execution_count": 59,
   "id": "2ddf6ff4",
   "metadata": {},
   "outputs": [
    {
     "name": "stderr",
     "output_type": "stream",
     "text": [
      "C:\\Users\\admin\\anaconda3\\lib\\site-packages\\sklearn\\utils\\validation.py:993: DataConversionWarning: A column-vector y was passed when a 1d array was expected. Please change the shape of y to (n_samples, ), for example using ravel().\n",
      "  y = column_or_1d(y, warn=True)\n"
     ]
    },
    {
     "data": {
      "text/plain": [
       "SVC(kernel='poly', random_state=1)"
      ]
     },
     "execution_count": 59,
     "metadata": {},
     "output_type": "execute_result"
    }
   ],
   "source": [
    "from sklearn.svm import SVC\n",
    "classifier1_c = SVC(kernel='poly',random_state=1)\n",
    "classifier1_c.fit(x_train, y_train)"
   ]
  },
  {
   "cell_type": "code",
   "execution_count": 23,
   "id": "f9686af9",
   "metadata": {},
   "outputs": [],
   "source": [
    "pt='SVM.sav'\n",
    "pickle.dump(classifier1,open(pt,'wb'))"
   ]
  },
  {
   "cell_type": "code",
   "execution_count": 24,
   "id": "2ef901f8",
   "metadata": {},
   "outputs": [],
   "source": [
    "y_pred1= classifier1.predict(x_test)\n",
    "y_pred1_a= classifier1_a.predict(x_test)\n",
    "y_pred1_b= classifier1_b.predict(x_test)"
   ]
  },
  {
   "cell_type": "code",
   "execution_count": 60,
   "id": "e7ca8cba",
   "metadata": {},
   "outputs": [],
   "source": [
    "y_pred1_c= classifier1_c.predict(x_test)"
   ]
  },
  {
   "cell_type": "code",
   "execution_count": 25,
   "id": "371ce864",
   "metadata": {},
   "outputs": [
    {
     "name": "stdout",
     "output_type": "stream",
     "text": [
      "[[10615     2     0   219  1090]\n",
      " [    0  1577     0     0     0]\n",
      " [    4     0  1532     0     0]\n",
      " [   39     5     0  1154    63]\n",
      " [ 3474     5     0   105  1140]]\n"
     ]
    }
   ],
   "source": [
    "#Confusion Matrix - verify accuracy of each class\n",
    "cm = confusion_matrix(y_test, y_pred1)\n",
    "print(cm)"
   ]
  },
  {
   "cell_type": "code",
   "execution_count": 26,
   "id": "fc79d0e1",
   "metadata": {},
   "outputs": [
    {
     "name": "stdout",
     "output_type": "stream",
     "text": [
      "              precision    recall  f1-score   support\n",
      "\n",
      "     Class 0      0.751     0.890     0.815     11926\n",
      "     Class 1      0.992     1.000     0.996      1577\n",
      "     Class 2      1.000     0.997     0.999      1536\n",
      "     Class 3      0.781     0.915     0.843      1261\n",
      "     Class 4      0.497     0.241     0.325      4724\n",
      "\n",
      "    accuracy                          0.762     21024\n",
      "   macro avg      0.804     0.809     0.795     21024\n",
      "weighted avg      0.732     0.762     0.733     21024\n",
      "\n"
     ]
    }
   ],
   "source": [
    "from sklearn.metrics import classification_report\n",
    "\n",
    "# print(class_labels)\n",
    "target_names = ['Class 0', 'Class 1', 'Class 2', 'Class 3', 'Class 4']\n",
    "print(classification_report(y_test, y_pred1, target_names=target_names,digits=3))"
   ]
  },
  {
   "cell_type": "code",
   "execution_count": 27,
   "id": "e46d2446",
   "metadata": {},
   "outputs": [
    {
     "name": "stdout",
     "output_type": "stream",
     "text": [
      "              precision    recall  f1-score   support\n",
      "\n",
      "     Class 0      0.738     0.919     0.819     11926\n",
      "     Class 1      0.916     0.999     0.955      1577\n",
      "     Class 2      0.961     0.986     0.974      1536\n",
      "     Class 3      0.784     0.790     0.787      1261\n",
      "     Class 4      0.476     0.163     0.243      4724\n",
      "\n",
      "    accuracy                          0.752     21024\n",
      "   macro avg      0.775     0.771     0.755     21024\n",
      "weighted avg      0.712     0.752     0.709     21024\n",
      "\n"
     ]
    }
   ],
   "source": [
    "target_names = ['Class 0', 'Class 1', 'Class 2', 'Class 3', 'Class 4']\n",
    "print(classification_report(y_test, y_pred1_a, target_names=target_names,digits=3))"
   ]
  },
  {
   "cell_type": "code",
   "execution_count": 28,
   "id": "41f27e88",
   "metadata": {},
   "outputs": [
    {
     "name": "stdout",
     "output_type": "stream",
     "text": [
      "              precision    recall  f1-score   support\n",
      "\n",
      "     Class 0      0.976     0.982     0.979     11926\n",
      "     Class 1      0.999     1.000     1.000      1577\n",
      "     Class 2      1.000     1.000     1.000      1536\n",
      "     Class 3      0.583     0.581     0.582      1261\n",
      "     Class 4      0.949     0.934     0.941      4724\n",
      "\n",
      "    accuracy                          0.950     21024\n",
      "   macro avg      0.901     0.899     0.900     21024\n",
      "weighted avg      0.950     0.950     0.950     21024\n",
      "\n"
     ]
    }
   ],
   "source": [
    "target_names = ['Class 0', 'Class 1', 'Class 2', 'Class 3', 'Class 4']\n",
    "print(classification_report(y_test, y_pred1_b, target_names=target_names,digits=3))"
   ]
  },
  {
   "cell_type": "code",
   "execution_count": 61,
   "id": "a84b5d07",
   "metadata": {},
   "outputs": [
    {
     "name": "stdout",
     "output_type": "stream",
     "text": [
      "              precision    recall  f1-score   support\n",
      "\n",
      "     Class 0      0.644     0.971     0.775     11926\n",
      "     Class 1      0.999     0.453     0.623      1577\n",
      "     Class 2      1.000     0.426     0.598      1536\n",
      "     Class 3      0.684     0.776     0.727      1261\n",
      "     Class 4      0.591     0.032     0.061      4724\n",
      "\n",
      "    accuracy                          0.670     21024\n",
      "   macro avg      0.784     0.532     0.557     21024\n",
      "weighted avg      0.687     0.670     0.587     21024\n",
      "\n"
     ]
    }
   ],
   "source": [
    "target_names = ['Class 0', 'Class 1', 'Class 2', 'Class 3', 'Class 4']\n",
    "print(classification_report(y_test, y_pred1_c, target_names=target_names,digits=3))"
   ]
  },
  {
   "cell_type": "code",
   "execution_count": 29,
   "id": "96b484c6",
   "metadata": {},
   "outputs": [],
   "source": [
    "################################################################################################################################"
   ]
  },
  {
   "cell_type": "code",
   "execution_count": 30,
   "id": "3bb64d2c",
   "metadata": {},
   "outputs": [
    {
     "name": "stderr",
     "output_type": "stream",
     "text": [
      "C:\\Users\\admin\\anaconda3\\lib\\site-packages\\sklearn\\neighbors\\_classification.py:198: DataConversionWarning: A column-vector y was passed when a 1d array was expected. Please change the shape of y to (n_samples,), for example using ravel().\n",
      "  return self._fit(X, y)\n"
     ]
    },
    {
     "data": {
      "text/plain": [
       "KNeighborsClassifier()"
      ]
     },
     "execution_count": 30,
     "metadata": {},
     "output_type": "execute_result"
    }
   ],
   "source": [
    "from sklearn.neighbors import KNeighborsClassifier  \n",
    "classifier2= KNeighborsClassifier(n_neighbors=5, metric='minkowski', p=2 )  \n",
    "classifier2.fit(x_train, y_train) "
   ]
  },
  {
   "cell_type": "code",
   "execution_count": 31,
   "id": "12eb3f98",
   "metadata": {},
   "outputs": [
    {
     "name": "stderr",
     "output_type": "stream",
     "text": [
      "C:\\Users\\admin\\anaconda3\\lib\\site-packages\\sklearn\\neighbors\\_classification.py:198: DataConversionWarning: A column-vector y was passed when a 1d array was expected. Please change the shape of y to (n_samples,), for example using ravel().\n",
      "  return self._fit(X, y)\n"
     ]
    },
    {
     "data": {
      "text/plain": [
       "KNeighborsClassifier(n_neighbors=10)"
      ]
     },
     "execution_count": 31,
     "metadata": {},
     "output_type": "execute_result"
    }
   ],
   "source": [
    "classifier2_a = KNeighborsClassifier(n_neighbors=10, metric='minkowski', p=2)\n",
    "classifier2_a.fit(x_train, y_train)"
   ]
  },
  {
   "cell_type": "code",
   "execution_count": 32,
   "id": "728b7d0e",
   "metadata": {},
   "outputs": [
    {
     "name": "stderr",
     "output_type": "stream",
     "text": [
      "C:\\Users\\admin\\anaconda3\\lib\\site-packages\\sklearn\\neighbors\\_classification.py:198: DataConversionWarning: A column-vector y was passed when a 1d array was expected. Please change the shape of y to (n_samples,), for example using ravel().\n",
      "  return self._fit(X, y)\n"
     ]
    },
    {
     "data": {
      "text/plain": [
       "KNeighborsClassifier(metric='manhattan')"
      ]
     },
     "execution_count": 32,
     "metadata": {},
     "output_type": "execute_result"
    }
   ],
   "source": [
    "classifier2_b = KNeighborsClassifier(n_neighbors=5, metric='manhattan', p=2)\n",
    "classifier2_b.fit(x_train, y_train)"
   ]
  },
  {
   "cell_type": "code",
   "execution_count": 33,
   "id": "38df1d5c",
   "metadata": {},
   "outputs": [],
   "source": [
    "pt='KNN.sav'\n",
    "pickle.dump(classifier2,open(pt,'wb'))"
   ]
  },
  {
   "cell_type": "code",
   "execution_count": 34,
   "id": "289f21d0",
   "metadata": {},
   "outputs": [
    {
     "name": "stderr",
     "output_type": "stream",
     "text": [
      "C:\\Users\\admin\\anaconda3\\lib\\site-packages\\sklearn\\neighbors\\_classification.py:228: FutureWarning: Unlike other reduction functions (e.g. `skew`, `kurtosis`), the default behavior of `mode` typically preserves the axis it acts along. In SciPy 1.11.0, this behavior will change: the default value of `keepdims` will become False, the `axis` over which the statistic is taken will be eliminated, and the value None will no longer be accepted. Set `keepdims` to True or False to avoid this warning.\n",
      "  mode, _ = stats.mode(_y[neigh_ind, k], axis=1)\n",
      "C:\\Users\\admin\\anaconda3\\lib\\site-packages\\sklearn\\neighbors\\_classification.py:228: FutureWarning: Unlike other reduction functions (e.g. `skew`, `kurtosis`), the default behavior of `mode` typically preserves the axis it acts along. In SciPy 1.11.0, this behavior will change: the default value of `keepdims` will become False, the `axis` over which the statistic is taken will be eliminated, and the value None will no longer be accepted. Set `keepdims` to True or False to avoid this warning.\n",
      "  mode, _ = stats.mode(_y[neigh_ind, k], axis=1)\n",
      "C:\\Users\\admin\\anaconda3\\lib\\site-packages\\sklearn\\neighbors\\_classification.py:228: FutureWarning: Unlike other reduction functions (e.g. `skew`, `kurtosis`), the default behavior of `mode` typically preserves the axis it acts along. In SciPy 1.11.0, this behavior will change: the default value of `keepdims` will become False, the `axis` over which the statistic is taken will be eliminated, and the value None will no longer be accepted. Set `keepdims` to True or False to avoid this warning.\n",
      "  mode, _ = stats.mode(_y[neigh_ind, k], axis=1)\n"
     ]
    }
   ],
   "source": [
    "y_pred2= classifier2.predict(x_test)\n",
    "y_pred2_a= classifier2_a.predict(x_test)\n",
    "y_pred2_b= classifier2_b.predict(x_test)"
   ]
  },
  {
   "cell_type": "code",
   "execution_count": 35,
   "id": "bc0289e3",
   "metadata": {},
   "outputs": [
    {
     "name": "stdout",
     "output_type": "stream",
     "text": [
      "[[10152     0     0   100  1674]\n",
      " [    0  1577     0     0     0]\n",
      " [    0     0  1536     0     0]\n",
      " [   48     0     0  1194    19]\n",
      " [ 1624     1     0    51  3048]]\n"
     ]
    }
   ],
   "source": [
    "#Confusion Matrix - verify accuracy of each class\n",
    "cm = confusion_matrix(y_test, y_pred2)\n",
    "print(cm)"
   ]
  },
  {
   "cell_type": "code",
   "execution_count": 36,
   "id": "5a02e3e9",
   "metadata": {},
   "outputs": [
    {
     "name": "stdout",
     "output_type": "stream",
     "text": [
      "              precision    recall  f1-score   support\n",
      "\n",
      "     Class 0      0.859     0.851     0.855     11926\n",
      "     Class 1      0.999     1.000     1.000      1577\n",
      "     Class 2      1.000     1.000     1.000      1536\n",
      "     Class 3      0.888     0.947     0.916      1261\n",
      "     Class 4      0.643     0.645     0.644      4724\n",
      "\n",
      "    accuracy                          0.833     21024\n",
      "   macro avg      0.878     0.889     0.883     21024\n",
      "weighted avg      0.833     0.833     0.833     21024\n",
      "\n"
     ]
    }
   ],
   "source": [
    "from sklearn.metrics import classification_report\n",
    "\n",
    "# print(class_labels)\n",
    "target_names = ['Class 0', 'Class 1', 'Class 2', 'Class 3', 'Class 4']\n",
    "print(classification_report(y_test, y_pred2, target_names=target_names,digits=3))"
   ]
  },
  {
   "cell_type": "code",
   "execution_count": 37,
   "id": "6db5497e",
   "metadata": {},
   "outputs": [
    {
     "name": "stdout",
     "output_type": "stream",
     "text": [
      "              precision    recall  f1-score   support\n",
      "\n",
      "     Class 0      0.836     0.884     0.859     11926\n",
      "     Class 1      0.999     1.000     1.000      1577\n",
      "     Class 2      1.000     0.999     1.000      1536\n",
      "     Class 3      0.878     0.956     0.915      1261\n",
      "     Class 4      0.671     0.559     0.610      4724\n",
      "\n",
      "    accuracy                          0.832     21024\n",
      "   macro avg      0.877     0.880     0.877     21024\n",
      "weighted avg      0.826     0.832     0.827     21024\n",
      "\n"
     ]
    }
   ],
   "source": [
    "target_names = ['Class 0', 'Class 1', 'Class 2', 'Class 3', 'Class 4']\n",
    "print(classification_report(y_test, y_pred2_a, target_names=target_names,digits=3))"
   ]
  },
  {
   "cell_type": "code",
   "execution_count": 38,
   "id": "0702219d",
   "metadata": {},
   "outputs": [
    {
     "name": "stdout",
     "output_type": "stream",
     "text": [
      "              precision    recall  f1-score   support\n",
      "\n",
      "     Class 0      0.867     0.861     0.864     11926\n",
      "     Class 1      0.999     1.000     1.000      1577\n",
      "     Class 2      1.000     1.000     1.000      1536\n",
      "     Class 3      0.898     0.960     0.928      1261\n",
      "     Class 4      0.664     0.665     0.665      4724\n",
      "\n",
      "    accuracy                          0.843     21024\n",
      "   macro avg      0.886     0.897     0.891     21024\n",
      "weighted avg      0.843     0.843     0.843     21024\n",
      "\n"
     ]
    }
   ],
   "source": [
    "target_names = ['Class 0', 'Class 1', 'Class 2', 'Class 3', 'Class 4']\n",
    "print(classification_report(y_test, y_pred2_b, target_names=target_names,digits=3))"
   ]
  },
  {
   "cell_type": "code",
   "execution_count": 39,
   "id": "899ceb9c",
   "metadata": {},
   "outputs": [],
   "source": [
    "################################################################################################################################"
   ]
  },
  {
   "cell_type": "code",
   "execution_count": 40,
   "id": "5a571266",
   "metadata": {},
   "outputs": [
    {
     "name": "stderr",
     "output_type": "stream",
     "text": [
      "C:\\Users\\admin\\anaconda3\\lib\\site-packages\\sklearn\\utils\\validation.py:993: DataConversionWarning: A column-vector y was passed when a 1d array was expected. Please change the shape of y to (n_samples, ), for example using ravel().\n",
      "  y = column_or_1d(y, warn=True)\n"
     ]
    },
    {
     "data": {
      "text/plain": [
       "GaussianNB()"
      ]
     },
     "execution_count": 40,
     "metadata": {},
     "output_type": "execute_result"
    }
   ],
   "source": [
    "from sklearn.naive_bayes import GaussianNB  \n",
    "classifier3 = GaussianNB()  \n",
    "classifier3.fit(x_train, y_train) "
   ]
  },
  {
   "cell_type": "code",
   "execution_count": 41,
   "id": "67aa19bb",
   "metadata": {},
   "outputs": [
    {
     "name": "stderr",
     "output_type": "stream",
     "text": [
      "C:\\Users\\admin\\anaconda3\\lib\\site-packages\\sklearn\\utils\\validation.py:993: DataConversionWarning: A column-vector y was passed when a 1d array was expected. Please change the shape of y to (n_samples, ), for example using ravel().\n",
      "  y = column_or_1d(y, warn=True)\n"
     ]
    },
    {
     "data": {
      "text/plain": [
       "GaussianNB(var_smoothing=1e-08)"
      ]
     },
     "execution_count": 41,
     "metadata": {},
     "output_type": "execute_result"
    }
   ],
   "source": [
    "classifier3_a = GaussianNB(var_smoothing=1e-8)\n",
    "classifier3_a.fit(x_train, y_train)"
   ]
  },
  {
   "cell_type": "code",
   "execution_count": 42,
   "id": "d2cc9b10",
   "metadata": {},
   "outputs": [
    {
     "name": "stderr",
     "output_type": "stream",
     "text": [
      "C:\\Users\\admin\\anaconda3\\lib\\site-packages\\sklearn\\utils\\validation.py:993: DataConversionWarning: A column-vector y was passed when a 1d array was expected. Please change the shape of y to (n_samples, ), for example using ravel().\n",
      "  y = column_or_1d(y, warn=True)\n"
     ]
    },
    {
     "ename": "ValueError",
     "evalue": "Negative values in data passed to MultinomialNB (input X)",
     "output_type": "error",
     "traceback": [
      "\u001b[1;31m---------------------------------------------------------------------------\u001b[0m",
      "\u001b[1;31mValueError\u001b[0m                                Traceback (most recent call last)",
      "\u001b[1;32m~\\AppData\\Local\\Temp\\ipykernel_16920\\390669978.py\u001b[0m in \u001b[0;36m<module>\u001b[1;34m\u001b[0m\n\u001b[0;32m      1\u001b[0m \u001b[1;32mfrom\u001b[0m \u001b[0msklearn\u001b[0m\u001b[1;33m.\u001b[0m\u001b[0mnaive_bayes\u001b[0m \u001b[1;32mimport\u001b[0m \u001b[0mMultinomialNB\u001b[0m\u001b[1;33m\u001b[0m\u001b[1;33m\u001b[0m\u001b[0m\n\u001b[0;32m      2\u001b[0m \u001b[0mclassifier3_b\u001b[0m \u001b[1;33m=\u001b[0m \u001b[0mMultinomialNB\u001b[0m\u001b[1;33m(\u001b[0m\u001b[1;33m)\u001b[0m\u001b[1;33m\u001b[0m\u001b[1;33m\u001b[0m\u001b[0m\n\u001b[1;32m----> 3\u001b[1;33m \u001b[0mclassifier3_b\u001b[0m\u001b[1;33m.\u001b[0m\u001b[0mfit\u001b[0m\u001b[1;33m(\u001b[0m\u001b[0mx_train\u001b[0m\u001b[1;33m,\u001b[0m \u001b[0my_train\u001b[0m\u001b[1;33m)\u001b[0m\u001b[1;33m\u001b[0m\u001b[1;33m\u001b[0m\u001b[0m\n\u001b[0m",
      "\u001b[1;32m~\\anaconda3\\lib\\site-packages\\sklearn\\naive_bayes.py\u001b[0m in \u001b[0;36mfit\u001b[1;34m(self, X, y, sample_weight)\u001b[0m\n\u001b[0;32m    688\u001b[0m         \u001b[0mn_classes\u001b[0m \u001b[1;33m=\u001b[0m \u001b[0mY\u001b[0m\u001b[1;33m.\u001b[0m\u001b[0mshape\u001b[0m\u001b[1;33m[\u001b[0m\u001b[1;36m1\u001b[0m\u001b[1;33m]\u001b[0m\u001b[1;33m\u001b[0m\u001b[1;33m\u001b[0m\u001b[0m\n\u001b[0;32m    689\u001b[0m         \u001b[0mself\u001b[0m\u001b[1;33m.\u001b[0m\u001b[0m_init_counters\u001b[0m\u001b[1;33m(\u001b[0m\u001b[0mn_classes\u001b[0m\u001b[1;33m,\u001b[0m \u001b[0mn_features\u001b[0m\u001b[1;33m)\u001b[0m\u001b[1;33m\u001b[0m\u001b[1;33m\u001b[0m\u001b[0m\n\u001b[1;32m--> 690\u001b[1;33m         \u001b[0mself\u001b[0m\u001b[1;33m.\u001b[0m\u001b[0m_count\u001b[0m\u001b[1;33m(\u001b[0m\u001b[0mX\u001b[0m\u001b[1;33m,\u001b[0m \u001b[0mY\u001b[0m\u001b[1;33m)\u001b[0m\u001b[1;33m\u001b[0m\u001b[1;33m\u001b[0m\u001b[0m\n\u001b[0m\u001b[0;32m    691\u001b[0m         \u001b[0malpha\u001b[0m \u001b[1;33m=\u001b[0m \u001b[0mself\u001b[0m\u001b[1;33m.\u001b[0m\u001b[0m_check_alpha\u001b[0m\u001b[1;33m(\u001b[0m\u001b[1;33m)\u001b[0m\u001b[1;33m\u001b[0m\u001b[1;33m\u001b[0m\u001b[0m\n\u001b[0;32m    692\u001b[0m         \u001b[0mself\u001b[0m\u001b[1;33m.\u001b[0m\u001b[0m_update_feature_log_prob\u001b[0m\u001b[1;33m(\u001b[0m\u001b[0malpha\u001b[0m\u001b[1;33m)\u001b[0m\u001b[1;33m\u001b[0m\u001b[1;33m\u001b[0m\u001b[0m\n",
      "\u001b[1;32m~\\anaconda3\\lib\\site-packages\\sklearn\\naive_bayes.py\u001b[0m in \u001b[0;36m_count\u001b[1;34m(self, X, Y)\u001b[0m\n\u001b[0;32m    861\u001b[0m     \u001b[1;32mdef\u001b[0m \u001b[0m_count\u001b[0m\u001b[1;33m(\u001b[0m\u001b[0mself\u001b[0m\u001b[1;33m,\u001b[0m \u001b[0mX\u001b[0m\u001b[1;33m,\u001b[0m \u001b[0mY\u001b[0m\u001b[1;33m)\u001b[0m\u001b[1;33m:\u001b[0m\u001b[1;33m\u001b[0m\u001b[1;33m\u001b[0m\u001b[0m\n\u001b[0;32m    862\u001b[0m         \u001b[1;34m\"\"\"Count and smooth feature occurrences.\"\"\"\u001b[0m\u001b[1;33m\u001b[0m\u001b[1;33m\u001b[0m\u001b[0m\n\u001b[1;32m--> 863\u001b[1;33m         \u001b[0mcheck_non_negative\u001b[0m\u001b[1;33m(\u001b[0m\u001b[0mX\u001b[0m\u001b[1;33m,\u001b[0m \u001b[1;34m\"MultinomialNB (input X)\"\u001b[0m\u001b[1;33m)\u001b[0m\u001b[1;33m\u001b[0m\u001b[1;33m\u001b[0m\u001b[0m\n\u001b[0m\u001b[0;32m    864\u001b[0m         \u001b[0mself\u001b[0m\u001b[1;33m.\u001b[0m\u001b[0mfeature_count_\u001b[0m \u001b[1;33m+=\u001b[0m \u001b[0msafe_sparse_dot\u001b[0m\u001b[1;33m(\u001b[0m\u001b[0mY\u001b[0m\u001b[1;33m.\u001b[0m\u001b[0mT\u001b[0m\u001b[1;33m,\u001b[0m \u001b[0mX\u001b[0m\u001b[1;33m)\u001b[0m\u001b[1;33m\u001b[0m\u001b[1;33m\u001b[0m\u001b[0m\n\u001b[0;32m    865\u001b[0m         \u001b[0mself\u001b[0m\u001b[1;33m.\u001b[0m\u001b[0mclass_count_\u001b[0m \u001b[1;33m+=\u001b[0m \u001b[0mY\u001b[0m\u001b[1;33m.\u001b[0m\u001b[0msum\u001b[0m\u001b[1;33m(\u001b[0m\u001b[0maxis\u001b[0m\u001b[1;33m=\u001b[0m\u001b[1;36m0\u001b[0m\u001b[1;33m)\u001b[0m\u001b[1;33m\u001b[0m\u001b[1;33m\u001b[0m\u001b[0m\n",
      "\u001b[1;32m~\\anaconda3\\lib\\site-packages\\sklearn\\utils\\validation.py\u001b[0m in \u001b[0;36mcheck_non_negative\u001b[1;34m(X, whom)\u001b[0m\n\u001b[0;32m   1247\u001b[0m \u001b[1;33m\u001b[0m\u001b[0m\n\u001b[0;32m   1248\u001b[0m     \u001b[1;32mif\u001b[0m \u001b[0mX_min\u001b[0m \u001b[1;33m<\u001b[0m \u001b[1;36m0\u001b[0m\u001b[1;33m:\u001b[0m\u001b[1;33m\u001b[0m\u001b[1;33m\u001b[0m\u001b[0m\n\u001b[1;32m-> 1249\u001b[1;33m         \u001b[1;32mraise\u001b[0m \u001b[0mValueError\u001b[0m\u001b[1;33m(\u001b[0m\u001b[1;34m\"Negative values in data passed to %s\"\u001b[0m \u001b[1;33m%\u001b[0m \u001b[0mwhom\u001b[0m\u001b[1;33m)\u001b[0m\u001b[1;33m\u001b[0m\u001b[1;33m\u001b[0m\u001b[0m\n\u001b[0m\u001b[0;32m   1250\u001b[0m \u001b[1;33m\u001b[0m\u001b[0m\n\u001b[0;32m   1251\u001b[0m \u001b[1;33m\u001b[0m\u001b[0m\n",
      "\u001b[1;31mValueError\u001b[0m: Negative values in data passed to MultinomialNB (input X)"
     ]
    }
   ],
   "source": [
    "from sklearn.naive_bayes import MultinomialNB\n",
    "classifier3_b = MultinomialNB()\n",
    "classifier3_b.fit(x_train, y_train)"
   ]
  },
  {
   "cell_type": "code",
   "execution_count": 43,
   "id": "8425f2b2",
   "metadata": {},
   "outputs": [
    {
     "name": "stderr",
     "output_type": "stream",
     "text": [
      "C:\\Users\\admin\\anaconda3\\lib\\site-packages\\sklearn\\utils\\validation.py:993: DataConversionWarning: A column-vector y was passed when a 1d array was expected. Please change the shape of y to (n_samples, ), for example using ravel().\n",
      "  y = column_or_1d(y, warn=True)\n"
     ]
    },
    {
     "data": {
      "text/plain": [
       "GaussianNB(var_smoothing=1e-07)"
      ]
     },
     "execution_count": 43,
     "metadata": {},
     "output_type": "execute_result"
    }
   ],
   "source": [
    "classifier3_c = GaussianNB(var_smoothing=1e-7)\n",
    "classifier3_c.fit(x_train, y_train)"
   ]
  },
  {
   "cell_type": "code",
   "execution_count": 44,
   "id": "211b753f",
   "metadata": {},
   "outputs": [],
   "source": [
    "pt='NB.sav'\n",
    "pickle.dump(classifier3,open(pt,'wb'))"
   ]
  },
  {
   "cell_type": "code",
   "execution_count": 45,
   "id": "df81c629",
   "metadata": {},
   "outputs": [],
   "source": [
    "y_pred3 = classifier3.predict(x_test)\n",
    "y_pred3_a = classifier3_a.predict(x_test)\n",
    "y_pred3_c = classifier3_c.predict(x_test)"
   ]
  },
  {
   "cell_type": "code",
   "execution_count": 46,
   "id": "d5cac6e6",
   "metadata": {},
   "outputs": [
    {
     "name": "stdout",
     "output_type": "stream",
     "text": [
      "[[3754  200 6576 1318   78]\n",
      " [ 445  506    0  106  520]\n",
      " [   0    0 1536    0    0]\n",
      " [  96    0    0  944  221]\n",
      " [   0    0    0  168 4556]]\n"
     ]
    }
   ],
   "source": [
    "#Confusion Matrix - verify accuracy of each class\n",
    "cm = confusion_matrix(y_test, y_pred3)\n",
    "print(cm)"
   ]
  },
  {
   "cell_type": "code",
   "execution_count": 47,
   "id": "babb8b6b",
   "metadata": {},
   "outputs": [
    {
     "name": "stdout",
     "output_type": "stream",
     "text": [
      "              precision    recall  f1-score   support\n",
      "\n",
      "     Class 0      0.874     0.315     0.463     11926\n",
      "     Class 1      0.717     0.321     0.443      1577\n",
      "     Class 2      0.189     1.000     0.318      1536\n",
      "     Class 3      0.372     0.749     0.497      1261\n",
      "     Class 4      0.848     0.964     0.902      4724\n",
      "\n",
      "    accuracy                          0.537     21024\n",
      "   macro avg      0.600     0.670     0.525     21024\n",
      "weighted avg      0.776     0.537     0.552     21024\n",
      "\n"
     ]
    }
   ],
   "source": [
    "from sklearn.metrics import classification_report\n",
    "\n",
    "# print(class_labels)\n",
    "target_names = ['Class 0', 'Class 1', 'Class 2', 'Class 3', 'Class 4']\n",
    "print(classification_report(y_test, y_pred3, target_names=target_names,digits=3))"
   ]
  },
  {
   "cell_type": "code",
   "execution_count": 48,
   "id": "17e9394c",
   "metadata": {},
   "outputs": [
    {
     "name": "stdout",
     "output_type": "stream",
     "text": [
      "              precision    recall  f1-score   support\n",
      "\n",
      "     Class 0      0.870     0.319     0.467     11926\n",
      "     Class 1      0.724     0.332     0.455      1577\n",
      "     Class 2      0.190     1.000     0.319      1536\n",
      "     Class 3      0.372     0.806     0.509      1261\n",
      "     Class 4      0.861     0.931     0.894      4724\n",
      "\n",
      "    accuracy                          0.537     21024\n",
      "   macro avg      0.603     0.678     0.529     21024\n",
      "weighted avg      0.777     0.537     0.554     21024\n",
      "\n"
     ]
    }
   ],
   "source": [
    "target_names = ['Class 0', 'Class 1', 'Class 2', 'Class 3', 'Class 4']\n",
    "print(classification_report(y_test, y_pred3_a, target_names=target_names,digits=3))"
   ]
  },
  {
   "cell_type": "code",
   "execution_count": 49,
   "id": "27215e2b",
   "metadata": {},
   "outputs": [
    {
     "name": "stdout",
     "output_type": "stream",
     "text": [
      "              precision    recall  f1-score   support\n",
      "\n",
      "     Class 0      0.631     0.345     0.446     11926\n",
      "     Class 1      0.752     0.352     0.479      1577\n",
      "     Class 2      0.194     1.000     0.325      1536\n",
      "     Class 3      0.368     0.835     0.511      1261\n",
      "     Class 4      0.921     0.582     0.713      4724\n",
      "\n",
      "    accuracy                          0.476     21024\n",
      "   macro avg      0.573     0.623     0.495     21024\n",
      "weighted avg      0.658     0.476     0.504     21024\n",
      "\n"
     ]
    }
   ],
   "source": [
    "target_names = ['Class 0', 'Class 1', 'Class 2', 'Class 3', 'Class 4']\n",
    "print(classification_report(y_test, y_pred3_c, target_names=target_names,digits=3))"
   ]
  },
  {
   "cell_type": "code",
   "execution_count": null,
   "id": "3ec8011e",
   "metadata": {},
   "outputs": [],
   "source": [
    "################################################################################################################################"
   ]
  },
  {
   "cell_type": "code",
   "execution_count": 50,
   "id": "c04cd6c6",
   "metadata": {},
   "outputs": [
    {
     "data": {
      "text/plain": [
       "DecisionTreeClassifier(criterion='entropy', random_state=0)"
      ]
     },
     "execution_count": 50,
     "metadata": {},
     "output_type": "execute_result"
    }
   ],
   "source": [
    "from sklearn.tree import DecisionTreeClassifier\n",
    "classifier4= DecisionTreeClassifier(criterion='entropy', random_state=0)\n",
    "classifier4.fit(x_train, y_train)"
   ]
  },
  {
   "cell_type": "code",
   "execution_count": 51,
   "id": "449b7145",
   "metadata": {},
   "outputs": [
    {
     "data": {
      "text/plain": [
       "DecisionTreeClassifier(random_state=0)"
      ]
     },
     "execution_count": 51,
     "metadata": {},
     "output_type": "execute_result"
    }
   ],
   "source": [
    "classifier4_a = DecisionTreeClassifier(criterion='gini', random_state=0)\n",
    "classifier4_a.fit(x_train, y_train)"
   ]
  },
  {
   "cell_type": "code",
   "execution_count": 52,
   "id": "77f77eed",
   "metadata": {},
   "outputs": [
    {
     "data": {
      "text/plain": [
       "DecisionTreeClassifier(criterion='entropy', max_depth=5, random_state=0)"
      ]
     },
     "execution_count": 52,
     "metadata": {},
     "output_type": "execute_result"
    }
   ],
   "source": [
    "classifier4_b = DecisionTreeClassifier(criterion='entropy', max_depth=5, random_state=0)\n",
    "classifier4_b.fit(x_train, y_train)"
   ]
  },
  {
   "cell_type": "code",
   "execution_count": 53,
   "id": "ac06ceeb",
   "metadata": {},
   "outputs": [],
   "source": [
    "pt='DT.sav'\n",
    "pickle.dump(classifier4,open(pt,'wb'))"
   ]
  },
  {
   "cell_type": "code",
   "execution_count": 54,
   "id": "b7189923",
   "metadata": {},
   "outputs": [],
   "source": [
    "y_pred4= classifier4.predict(x_test)\n",
    "y_pred4_a= classifier4_a.predict(x_test)\n",
    "y_pred4_b= classifier4_b.predict(x_test)"
   ]
  },
  {
   "cell_type": "code",
   "execution_count": 55,
   "id": "62e1a831",
   "metadata": {},
   "outputs": [
    {
     "name": "stdout",
     "output_type": "stream",
     "text": [
      "[[11924     2     0     0     0]\n",
      " [    1  1573     0     0     3]\n",
      " [    0     0  1536     0     0]\n",
      " [    1     0     0  1259     1]\n",
      " [    0     2     0     1  4721]]\n"
     ]
    }
   ],
   "source": [
    "#Confusion Matrix - verify accuracy of each class\n",
    "cm = confusion_matrix(y_test, y_pred4)\n",
    "print(cm)"
   ]
  },
  {
   "cell_type": "code",
   "execution_count": 56,
   "id": "15b9ea98",
   "metadata": {},
   "outputs": [
    {
     "name": "stdout",
     "output_type": "stream",
     "text": [
      "              precision    recall  f1-score   support\n",
      "\n",
      "     Class 0      1.000     1.000     1.000     11926\n",
      "     Class 1      0.997     0.997     0.997      1577\n",
      "     Class 2      1.000     1.000     1.000      1536\n",
      "     Class 3      0.999     0.998     0.999      1261\n",
      "     Class 4      0.999     0.999     0.999      4724\n",
      "\n",
      "    accuracy                          0.999     21024\n",
      "   macro avg      0.999     0.999     0.999     21024\n",
      "weighted avg      0.999     0.999     0.999     21024\n",
      "\n"
     ]
    }
   ],
   "source": [
    "from sklearn.metrics import classification_report\n",
    "\n",
    "# print(class_labels)\n",
    "target_names = ['Class 0', 'Class 1', 'Class 2', 'Class 3', 'Class 4']\n",
    "print(classification_report(y_test, y_pred4, target_names=target_names,digits=3))"
   ]
  },
  {
   "cell_type": "code",
   "execution_count": 57,
   "id": "fbd51204",
   "metadata": {},
   "outputs": [
    {
     "name": "stdout",
     "output_type": "stream",
     "text": [
      "              precision    recall  f1-score   support\n",
      "\n",
      "     Class 0      1.000     1.000     1.000     11926\n",
      "     Class 1      0.996     0.997     0.996      1577\n",
      "     Class 2      1.000     1.000     1.000      1536\n",
      "     Class 3      0.998     0.994     0.996      1261\n",
      "     Class 4      0.999     0.999     0.999      4724\n",
      "\n",
      "    accuracy                          0.999     21024\n",
      "   macro avg      0.999     0.998     0.998     21024\n",
      "weighted avg      0.999     0.999     0.999     21024\n",
      "\n"
     ]
    }
   ],
   "source": [
    "target_names = ['Class 0', 'Class 1', 'Class 2', 'Class 3', 'Class 4']\n",
    "print(classification_report(y_test, y_pred4_a, target_names=target_names,digits=3))"
   ]
  },
  {
   "cell_type": "code",
   "execution_count": 58,
   "id": "e8b7349e",
   "metadata": {},
   "outputs": [
    {
     "name": "stdout",
     "output_type": "stream",
     "text": [
      "              precision    recall  f1-score   support\n",
      "\n",
      "     Class 0      0.984     0.966     0.975     11926\n",
      "     Class 1      0.771     0.747     0.759      1577\n",
      "     Class 2      1.000     1.000     1.000      1536\n",
      "     Class 3      0.881     0.800     0.839      1261\n",
      "     Class 4      0.922     0.998     0.959      4724\n",
      "\n",
      "    accuracy                          0.949     21024\n",
      "   macro avg      0.912     0.902     0.906     21024\n",
      "weighted avg      0.949     0.949     0.949     21024\n",
      "\n"
     ]
    }
   ],
   "source": [
    "target_names = ['Class 0', 'Class 1', 'Class 2', 'Class 3', 'Class 4']\n",
    "print(classification_report(y_test, y_pred4_b, target_names=target_names,digits=3))"
   ]
  },
  {
   "cell_type": "code",
   "execution_count": 62,
   "id": "03a9b311",
   "metadata": {},
   "outputs": [],
   "source": [
    "################################################################################################################################"
   ]
  }
 ],
 "metadata": {
  "kernelspec": {
   "display_name": "Python 3 (ipykernel)",
   "language": "python",
   "name": "python3"
  },
  "language_info": {
   "codemirror_mode": {
    "name": "ipython",
    "version": 3
   },
   "file_extension": ".py",
   "mimetype": "text/x-python",
   "name": "python",
   "nbconvert_exporter": "python",
   "pygments_lexer": "ipython3",
   "version": "3.9.13"
  }
 },
 "nbformat": 4,
 "nbformat_minor": 5
}
