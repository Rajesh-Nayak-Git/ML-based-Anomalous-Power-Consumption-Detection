{
 "cells": [
  {
   "cell_type": "code",
   "execution_count": 1,
   "id": "1089fffb",
   "metadata": {},
   "outputs": [],
   "source": [
    "import pandas as pd\n",
    "import numpy as np\n",
    "import matplotlib.pyplot as plt\n",
    "from sklearn.model_selection import train_test_split\n",
    "from sklearn.metrics import precision_score, recall_score, accuracy_score, f1_score\n",
    "from sklearn.metrics import confusion_matrix\n",
    "# from mlxtend.plotting import plot_confusion_matrix"
   ]
  },
  {
   "cell_type": "code",
   "execution_count": 2,
   "id": "1759a589",
   "metadata": {},
   "outputs": [],
   "source": [
    "df1=pd.read_csv(\"Binary-Training-App-Norm-NewSimDataset.csv\")"
   ]
  },
  {
   "cell_type": "code",
   "execution_count": 3,
   "id": "0df70f84",
   "metadata": {
    "scrolled": true
   },
   "outputs": [
    {
     "data": {
      "text/html": [
       "<div>\n",
       "<style scoped>\n",
       "    .dataframe tbody tr th:only-of-type {\n",
       "        vertical-align: middle;\n",
       "    }\n",
       "\n",
       "    .dataframe tbody tr th {\n",
       "        vertical-align: top;\n",
       "    }\n",
       "\n",
       "    .dataframe thead th {\n",
       "        text-align: right;\n",
       "    }\n",
       "</style>\n",
       "<table border=\"1\" class=\"dataframe\">\n",
       "  <thead>\n",
       "    <tr style=\"text-align: right;\">\n",
       "      <th></th>\n",
       "      <th>Occupancy</th>\n",
       "      <th>Appliance ID</th>\n",
       "      <th>Sin(time)</th>\n",
       "      <th>Cos(time)</th>\n",
       "      <th>Sin(day)</th>\n",
       "      <th>Cos(day)</th>\n",
       "      <th>Power consumption</th>\n",
       "      <th>App_norm</th>\n",
       "      <th>P(t)-P(t-1)</th>\n",
       "      <th>P(t)-P(t+1)</th>\n",
       "      <th>Class Label</th>\n",
       "    </tr>\n",
       "  </thead>\n",
       "  <tbody>\n",
       "    <tr>\n",
       "      <th>0</th>\n",
       "      <td>0</td>\n",
       "      <td>1</td>\n",
       "      <td>-0.96593</td>\n",
       "      <td>2.588200e-01</td>\n",
       "      <td>-0.999250</td>\n",
       "      <td>0.038722</td>\n",
       "      <td>100</td>\n",
       "      <td>1.000000</td>\n",
       "      <td>0</td>\n",
       "      <td>0</td>\n",
       "      <td>1</td>\n",
       "    </tr>\n",
       "    <tr>\n",
       "      <th>1</th>\n",
       "      <td>1</td>\n",
       "      <td>5</td>\n",
       "      <td>1.00000</td>\n",
       "      <td>6.120000e-17</td>\n",
       "      <td>-0.816540</td>\n",
       "      <td>-0.577290</td>\n",
       "      <td>685</td>\n",
       "      <td>0.456667</td>\n",
       "      <td>-675</td>\n",
       "      <td>-631</td>\n",
       "      <td>0</td>\n",
       "    </tr>\n",
       "    <tr>\n",
       "      <th>2</th>\n",
       "      <td>0</td>\n",
       "      <td>4</td>\n",
       "      <td>-0.50000</td>\n",
       "      <td>-8.660300e-01</td>\n",
       "      <td>-0.263670</td>\n",
       "      <td>-0.964610</td>\n",
       "      <td>719</td>\n",
       "      <td>0.479333</td>\n",
       "      <td>206</td>\n",
       "      <td>-629</td>\n",
       "      <td>1</td>\n",
       "    </tr>\n",
       "    <tr>\n",
       "      <th>3</th>\n",
       "      <td>1</td>\n",
       "      <td>4</td>\n",
       "      <td>0.25882</td>\n",
       "      <td>9.659300e-01</td>\n",
       "      <td>-0.094537</td>\n",
       "      <td>-0.995520</td>\n",
       "      <td>771</td>\n",
       "      <td>0.514000</td>\n",
       "      <td>200</td>\n",
       "      <td>-190</td>\n",
       "      <td>0</td>\n",
       "    </tr>\n",
       "    <tr>\n",
       "      <th>4</th>\n",
       "      <td>0</td>\n",
       "      <td>3</td>\n",
       "      <td>-0.70711</td>\n",
       "      <td>-7.071100e-01</td>\n",
       "      <td>0.811540</td>\n",
       "      <td>0.584300</td>\n",
       "      <td>5</td>\n",
       "      <td>0.001669</td>\n",
       "      <td>2</td>\n",
       "      <td>-1</td>\n",
       "      <td>0</td>\n",
       "    </tr>\n",
       "    <tr>\n",
       "      <th>...</th>\n",
       "      <td>...</td>\n",
       "      <td>...</td>\n",
       "      <td>...</td>\n",
       "      <td>...</td>\n",
       "      <td>...</td>\n",
       "      <td>...</td>\n",
       "      <td>...</td>\n",
       "      <td>...</td>\n",
       "      <td>...</td>\n",
       "      <td>...</td>\n",
       "      <td>...</td>\n",
       "    </tr>\n",
       "    <tr>\n",
       "      <th>84091</th>\n",
       "      <td>0</td>\n",
       "      <td>1</td>\n",
       "      <td>-0.86603</td>\n",
       "      <td>-5.000000e-01</td>\n",
       "      <td>0.811540</td>\n",
       "      <td>0.584300</td>\n",
       "      <td>100</td>\n",
       "      <td>1.000000</td>\n",
       "      <td>100</td>\n",
       "      <td>0</td>\n",
       "      <td>0</td>\n",
       "    </tr>\n",
       "    <tr>\n",
       "      <th>84092</th>\n",
       "      <td>1</td>\n",
       "      <td>4</td>\n",
       "      <td>0.70711</td>\n",
       "      <td>7.071100e-01</td>\n",
       "      <td>-0.845250</td>\n",
       "      <td>-0.534370</td>\n",
       "      <td>740</td>\n",
       "      <td>0.493333</td>\n",
       "      <td>-524</td>\n",
       "      <td>-51</td>\n",
       "      <td>0</td>\n",
       "    </tr>\n",
       "    <tr>\n",
       "      <th>84093</th>\n",
       "      <td>1</td>\n",
       "      <td>5</td>\n",
       "      <td>-0.96593</td>\n",
       "      <td>2.588200e-01</td>\n",
       "      <td>-0.068802</td>\n",
       "      <td>0.997630</td>\n",
       "      <td>1181</td>\n",
       "      <td>0.787333</td>\n",
       "      <td>48</td>\n",
       "      <td>501</td>\n",
       "      <td>0</td>\n",
       "    </tr>\n",
       "    <tr>\n",
       "      <th>84094</th>\n",
       "      <td>1</td>\n",
       "      <td>0</td>\n",
       "      <td>0.25882</td>\n",
       "      <td>-9.659300e-01</td>\n",
       "      <td>0.806480</td>\n",
       "      <td>-0.591260</td>\n",
       "      <td>0</td>\n",
       "      <td>0.000000</td>\n",
       "      <td>0</td>\n",
       "      <td>0</td>\n",
       "      <td>0</td>\n",
       "    </tr>\n",
       "    <tr>\n",
       "      <th>84095</th>\n",
       "      <td>0</td>\n",
       "      <td>0</td>\n",
       "      <td>-1.00000</td>\n",
       "      <td>-1.840000e-16</td>\n",
       "      <td>0.936880</td>\n",
       "      <td>-0.349650</td>\n",
       "      <td>60</td>\n",
       "      <td>1.000000</td>\n",
       "      <td>0</td>\n",
       "      <td>0</td>\n",
       "      <td>1</td>\n",
       "    </tr>\n",
       "  </tbody>\n",
       "</table>\n",
       "<p>84096 rows × 11 columns</p>\n",
       "</div>"
      ],
      "text/plain": [
       "       Occupancy  Appliance ID  Sin(time)     Cos(time)  Sin(day)  Cos(day)  \\\n",
       "0              0             1   -0.96593  2.588200e-01 -0.999250  0.038722   \n",
       "1              1             5    1.00000  6.120000e-17 -0.816540 -0.577290   \n",
       "2              0             4   -0.50000 -8.660300e-01 -0.263670 -0.964610   \n",
       "3              1             4    0.25882  9.659300e-01 -0.094537 -0.995520   \n",
       "4              0             3   -0.70711 -7.071100e-01  0.811540  0.584300   \n",
       "...          ...           ...        ...           ...       ...       ...   \n",
       "84091          0             1   -0.86603 -5.000000e-01  0.811540  0.584300   \n",
       "84092          1             4    0.70711  7.071100e-01 -0.845250 -0.534370   \n",
       "84093          1             5   -0.96593  2.588200e-01 -0.068802  0.997630   \n",
       "84094          1             0    0.25882 -9.659300e-01  0.806480 -0.591260   \n",
       "84095          0             0   -1.00000 -1.840000e-16  0.936880 -0.349650   \n",
       "\n",
       "       Power consumption  App_norm  P(t)-P(t-1)  P(t)-P(t+1)  Class Label  \n",
       "0                    100  1.000000            0            0            1  \n",
       "1                    685  0.456667         -675         -631            0  \n",
       "2                    719  0.479333          206         -629            1  \n",
       "3                    771  0.514000          200         -190            0  \n",
       "4                      5  0.001669            2           -1            0  \n",
       "...                  ...       ...          ...          ...          ...  \n",
       "84091                100  1.000000          100            0            0  \n",
       "84092                740  0.493333         -524          -51            0  \n",
       "84093               1181  0.787333           48          501            0  \n",
       "84094                  0  0.000000            0            0            0  \n",
       "84095                 60  1.000000            0            0            1  \n",
       "\n",
       "[84096 rows x 11 columns]"
      ]
     },
     "execution_count": 3,
     "metadata": {},
     "output_type": "execute_result"
    }
   ],
   "source": [
    "df1"
   ]
  },
  {
   "cell_type": "code",
   "execution_count": 4,
   "id": "eb2d4c2d",
   "metadata": {},
   "outputs": [],
   "source": [
    "x_train=df1.iloc[:,:-1]\n",
    "y_train=df1.iloc[:,-1:]"
   ]
  },
  {
   "cell_type": "code",
   "execution_count": 5,
   "id": "3e6716ac",
   "metadata": {},
   "outputs": [
    {
     "data": {
      "text/plain": [
       "(84096, 84096)"
      ]
     },
     "execution_count": 5,
     "metadata": {},
     "output_type": "execute_result"
    }
   ],
   "source": [
    "len(x_train),len(y_train)"
   ]
  },
  {
   "cell_type": "code",
   "execution_count": null,
   "id": "29753174",
   "metadata": {},
   "outputs": [],
   "source": [
    "# import pickle"
   ]
  },
  {
   "cell_type": "code",
   "execution_count": 6,
   "id": "2a629263",
   "metadata": {},
   "outputs": [
    {
     "name": "stderr",
     "output_type": "stream",
     "text": [
      "C:\\Users\\admin\\AppData\\Local\\Temp\\ipykernel_26656\\2458475876.py:4: DataConversionWarning: A column-vector y was passed when a 1d array was expected. Please change the shape of y to (n_samples,), for example using ravel().\n",
      "  classifier.fit(x_train, y_train)\n"
     ]
    },
    {
     "data": {
      "text/plain": [
       "RandomForestClassifier(criterion='entropy')"
      ]
     },
     "execution_count": 6,
     "metadata": {},
     "output_type": "execute_result"
    }
   ],
   "source": [
    "# Random Forest Model\n",
    "from sklearn.ensemble import RandomForestClassifier\n",
    "classifier= RandomForestClassifier(n_estimators= 100, criterion=\"entropy\")\n",
    "classifier.fit(x_train, y_train)"
   ]
  },
  {
   "cell_type": "code",
   "execution_count": 7,
   "id": "27d3fd86",
   "metadata": {},
   "outputs": [],
   "source": [
    "df2=pd.read_csv(\"Binary-Testing-App-Norm-NewSimDataset.csv\")"
   ]
  },
  {
   "cell_type": "code",
   "execution_count": 8,
   "id": "7e018645",
   "metadata": {},
   "outputs": [
    {
     "data": {
      "text/html": [
       "<div>\n",
       "<style scoped>\n",
       "    .dataframe tbody tr th:only-of-type {\n",
       "        vertical-align: middle;\n",
       "    }\n",
       "\n",
       "    .dataframe tbody tr th {\n",
       "        vertical-align: top;\n",
       "    }\n",
       "\n",
       "    .dataframe thead th {\n",
       "        text-align: right;\n",
       "    }\n",
       "</style>\n",
       "<table border=\"1\" class=\"dataframe\">\n",
       "  <thead>\n",
       "    <tr style=\"text-align: right;\">\n",
       "      <th></th>\n",
       "      <th>Occupancy</th>\n",
       "      <th>Appliance ID</th>\n",
       "      <th>Sin(time)</th>\n",
       "      <th>Cos(time)</th>\n",
       "      <th>Sin(day)</th>\n",
       "      <th>Cos(day)</th>\n",
       "      <th>Power consumption</th>\n",
       "      <th>App_norm</th>\n",
       "      <th>P(t)-P(t-1)</th>\n",
       "      <th>P(t)-P(t+1)</th>\n",
       "      <th>Class Label</th>\n",
       "    </tr>\n",
       "  </thead>\n",
       "  <tbody>\n",
       "    <tr>\n",
       "      <th>0</th>\n",
       "      <td>1</td>\n",
       "      <td>0</td>\n",
       "      <td>0.50000</td>\n",
       "      <td>-0.86603</td>\n",
       "      <td>0.89198</td>\n",
       "      <td>0.45207</td>\n",
       "      <td>0</td>\n",
       "      <td>0.000000</td>\n",
       "      <td>0</td>\n",
       "      <td>0</td>\n",
       "      <td>0</td>\n",
       "    </tr>\n",
       "    <tr>\n",
       "      <th>1</th>\n",
       "      <td>0</td>\n",
       "      <td>1</td>\n",
       "      <td>0.86603</td>\n",
       "      <td>-0.50000</td>\n",
       "      <td>-0.29671</td>\n",
       "      <td>-0.95497</td>\n",
       "      <td>0</td>\n",
       "      <td>0.000000</td>\n",
       "      <td>0</td>\n",
       "      <td>0</td>\n",
       "      <td>0</td>\n",
       "    </tr>\n",
       "    <tr>\n",
       "      <th>2</th>\n",
       "      <td>0</td>\n",
       "      <td>1</td>\n",
       "      <td>0.86603</td>\n",
       "      <td>0.50000</td>\n",
       "      <td>0.78030</td>\n",
       "      <td>0.62541</td>\n",
       "      <td>0</td>\n",
       "      <td>0.000000</td>\n",
       "      <td>0</td>\n",
       "      <td>0</td>\n",
       "      <td>0</td>\n",
       "    </tr>\n",
       "    <tr>\n",
       "      <th>3</th>\n",
       "      <td>1</td>\n",
       "      <td>4</td>\n",
       "      <td>0.25882</td>\n",
       "      <td>-0.96593</td>\n",
       "      <td>0.92097</td>\n",
       "      <td>0.38963</td>\n",
       "      <td>0</td>\n",
       "      <td>0.000000</td>\n",
       "      <td>0</td>\n",
       "      <td>0</td>\n",
       "      <td>0</td>\n",
       "    </tr>\n",
       "    <tr>\n",
       "      <th>4</th>\n",
       "      <td>1</td>\n",
       "      <td>3</td>\n",
       "      <td>0.50000</td>\n",
       "      <td>-0.86603</td>\n",
       "      <td>-0.78565</td>\n",
       "      <td>-0.61867</td>\n",
       "      <td>4</td>\n",
       "      <td>0.001112</td>\n",
       "      <td>0</td>\n",
       "      <td>-1652</td>\n",
       "      <td>0</td>\n",
       "    </tr>\n",
       "    <tr>\n",
       "      <th>...</th>\n",
       "      <td>...</td>\n",
       "      <td>...</td>\n",
       "      <td>...</td>\n",
       "      <td>...</td>\n",
       "      <td>...</td>\n",
       "      <td>...</td>\n",
       "      <td>...</td>\n",
       "      <td>...</td>\n",
       "      <td>...</td>\n",
       "      <td>...</td>\n",
       "      <td>...</td>\n",
       "    </tr>\n",
       "    <tr>\n",
       "      <th>21019</th>\n",
       "      <td>1</td>\n",
       "      <td>0</td>\n",
       "      <td>0.50000</td>\n",
       "      <td>0.86603</td>\n",
       "      <td>-0.24702</td>\n",
       "      <td>-0.96901</td>\n",
       "      <td>0</td>\n",
       "      <td>0.000000</td>\n",
       "      <td>0</td>\n",
       "      <td>0</td>\n",
       "      <td>0</td>\n",
       "    </tr>\n",
       "    <tr>\n",
       "      <th>21020</th>\n",
       "      <td>0</td>\n",
       "      <td>3</td>\n",
       "      <td>0.96593</td>\n",
       "      <td>0.25882</td>\n",
       "      <td>0.98293</td>\n",
       "      <td>-0.18400</td>\n",
       "      <td>2</td>\n",
       "      <td>0.000000</td>\n",
       "      <td>-3</td>\n",
       "      <td>0</td>\n",
       "      <td>0</td>\n",
       "    </tr>\n",
       "    <tr>\n",
       "      <th>21021</th>\n",
       "      <td>1</td>\n",
       "      <td>2</td>\n",
       "      <td>0.86603</td>\n",
       "      <td>-0.50000</td>\n",
       "      <td>-0.95623</td>\n",
       "      <td>0.29260</td>\n",
       "      <td>1</td>\n",
       "      <td>0.000000</td>\n",
       "      <td>-254</td>\n",
       "      <td>-2</td>\n",
       "      <td>0</td>\n",
       "    </tr>\n",
       "    <tr>\n",
       "      <th>21022</th>\n",
       "      <td>1</td>\n",
       "      <td>0</td>\n",
       "      <td>0.86603</td>\n",
       "      <td>-0.50000</td>\n",
       "      <td>0.58080</td>\n",
       "      <td>0.81405</td>\n",
       "      <td>0</td>\n",
       "      <td>0.000000</td>\n",
       "      <td>0</td>\n",
       "      <td>0</td>\n",
       "      <td>0</td>\n",
       "    </tr>\n",
       "    <tr>\n",
       "      <th>21023</th>\n",
       "      <td>1</td>\n",
       "      <td>1</td>\n",
       "      <td>-0.86603</td>\n",
       "      <td>0.50000</td>\n",
       "      <td>-0.44052</td>\n",
       "      <td>-0.89774</td>\n",
       "      <td>100</td>\n",
       "      <td>1.000000</td>\n",
       "      <td>0</td>\n",
       "      <td>0</td>\n",
       "      <td>0</td>\n",
       "    </tr>\n",
       "  </tbody>\n",
       "</table>\n",
       "<p>21024 rows × 11 columns</p>\n",
       "</div>"
      ],
      "text/plain": [
       "       Occupancy  Appliance ID  Sin(time)  Cos(time)  Sin(day)  Cos(day)  \\\n",
       "0              1             0    0.50000   -0.86603   0.89198   0.45207   \n",
       "1              0             1    0.86603   -0.50000  -0.29671  -0.95497   \n",
       "2              0             1    0.86603    0.50000   0.78030   0.62541   \n",
       "3              1             4    0.25882   -0.96593   0.92097   0.38963   \n",
       "4              1             3    0.50000   -0.86603  -0.78565  -0.61867   \n",
       "...          ...           ...        ...        ...       ...       ...   \n",
       "21019          1             0    0.50000    0.86603  -0.24702  -0.96901   \n",
       "21020          0             3    0.96593    0.25882   0.98293  -0.18400   \n",
       "21021          1             2    0.86603   -0.50000  -0.95623   0.29260   \n",
       "21022          1             0    0.86603   -0.50000   0.58080   0.81405   \n",
       "21023          1             1   -0.86603    0.50000  -0.44052  -0.89774   \n",
       "\n",
       "       Power consumption  App_norm  P(t)-P(t-1)  P(t)-P(t+1)  Class Label  \n",
       "0                      0  0.000000            0            0            0  \n",
       "1                      0  0.000000            0            0            0  \n",
       "2                      0  0.000000            0            0            0  \n",
       "3                      0  0.000000            0            0            0  \n",
       "4                      4  0.001112            0        -1652            0  \n",
       "...                  ...       ...          ...          ...          ...  \n",
       "21019                  0  0.000000            0            0            0  \n",
       "21020                  2  0.000000           -3            0            0  \n",
       "21021                  1  0.000000         -254           -2            0  \n",
       "21022                  0  0.000000            0            0            0  \n",
       "21023                100  1.000000            0            0            0  \n",
       "\n",
       "[21024 rows x 11 columns]"
      ]
     },
     "execution_count": 8,
     "metadata": {},
     "output_type": "execute_result"
    }
   ],
   "source": [
    "df2"
   ]
  },
  {
   "cell_type": "code",
   "execution_count": 9,
   "id": "a182b591",
   "metadata": {},
   "outputs": [],
   "source": [
    "x_test=df2.iloc[:,:-1]\n",
    "y_test=df2.iloc[:,-1:]"
   ]
  },
  {
   "cell_type": "code",
   "execution_count": 10,
   "id": "e19535a1",
   "metadata": {},
   "outputs": [],
   "source": [
    "y_pred= classifier.predict(x_test)"
   ]
  },
  {
   "cell_type": "code",
   "execution_count": 11,
   "id": "5d719486",
   "metadata": {},
   "outputs": [
    {
     "name": "stdout",
     "output_type": "stream",
     "text": [
      "[[15037     2]\n",
      " [    1  5984]]\n"
     ]
    }
   ],
   "source": [
    "#Confusion Matrix - verify accuracy of each class\n",
    "cm = confusion_matrix(y_test, y_pred)\n",
    "print(cm)"
   ]
  },
  {
   "cell_type": "code",
   "execution_count": 12,
   "id": "b3fbe53a",
   "metadata": {},
   "outputs": [
    {
     "name": "stdout",
     "output_type": "stream",
     "text": [
      "              precision    recall  f1-score   support\n",
      "\n",
      "     Class 0      1.000     1.000     1.000     15039\n",
      "     Class 1      1.000     1.000     1.000      5985\n",
      "\n",
      "    accuracy                          1.000     21024\n",
      "   macro avg      1.000     1.000     1.000     21024\n",
      "weighted avg      1.000     1.000     1.000     21024\n",
      "\n"
     ]
    }
   ],
   "source": [
    "from sklearn.metrics import classification_report\n",
    "\n",
    "# print(class_labels)\n",
    "target_names = ['Class 0', 'Class 1']\n",
    "print(classification_report(y_test, y_pred, target_names=target_names,digits=3))"
   ]
  },
  {
   "cell_type": "code",
   "execution_count": null,
   "id": "bfd63394",
   "metadata": {},
   "outputs": [],
   "source": [
    "################################################################################################################################"
   ]
  },
  {
   "cell_type": "code",
   "execution_count": 13,
   "id": "c9f1e246",
   "metadata": {},
   "outputs": [
    {
     "name": "stderr",
     "output_type": "stream",
     "text": [
      "C:\\Users\\admin\\anaconda3\\lib\\site-packages\\sklearn\\utils\\validation.py:993: DataConversionWarning: A column-vector y was passed when a 1d array was expected. Please change the shape of y to (n_samples, ), for example using ravel().\n",
      "  y = column_or_1d(y, warn=True)\n"
     ]
    },
    {
     "data": {
      "text/plain": [
       "SVC(random_state=1)"
      ]
     },
     "execution_count": 13,
     "metadata": {},
     "output_type": "execute_result"
    }
   ],
   "source": [
    "from sklearn.svm import SVC\n",
    "classifier1 = SVC(kernel='rbf',random_state=1)\n",
    "classifier1.fit(x_train, y_train)"
   ]
  },
  {
   "cell_type": "code",
   "execution_count": 14,
   "id": "2ef901f8",
   "metadata": {},
   "outputs": [],
   "source": [
    "y_pred1= classifier1.predict(x_test)"
   ]
  },
  {
   "cell_type": "code",
   "execution_count": 15,
   "id": "371ce864",
   "metadata": {},
   "outputs": [
    {
     "name": "stdout",
     "output_type": "stream",
     "text": [
      "[[13357  1682]\n",
      " [ 3124  2861]]\n"
     ]
    }
   ],
   "source": [
    "#Confusion Matrix - verify accuracy of each class\n",
    "cm = confusion_matrix(y_test, y_pred1)\n",
    "print(cm)"
   ]
  },
  {
   "cell_type": "code",
   "execution_count": 16,
   "id": "fc79d0e1",
   "metadata": {},
   "outputs": [
    {
     "name": "stdout",
     "output_type": "stream",
     "text": [
      "              precision    recall  f1-score   support\n",
      "\n",
      "     Class 0      0.810     0.888     0.848     15039\n",
      "     Class 1      0.630     0.478     0.544      5985\n",
      "\n",
      "    accuracy                          0.771     21024\n",
      "   macro avg      0.720     0.683     0.696     21024\n",
      "weighted avg      0.759     0.771     0.761     21024\n",
      "\n"
     ]
    }
   ],
   "source": [
    "from sklearn.metrics import classification_report\n",
    "\n",
    "# print(class_labels)\n",
    "target_names = ['Class 0', 'Class 1']\n",
    "print(classification_report(y_test, y_pred1, target_names=target_names,digits=3))"
   ]
  },
  {
   "cell_type": "code",
   "execution_count": null,
   "id": "96b484c6",
   "metadata": {},
   "outputs": [],
   "source": [
    "################################################################################################################################"
   ]
  },
  {
   "cell_type": "code",
   "execution_count": 17,
   "id": "3bb64d2c",
   "metadata": {},
   "outputs": [
    {
     "name": "stderr",
     "output_type": "stream",
     "text": [
      "C:\\Users\\admin\\anaconda3\\lib\\site-packages\\sklearn\\neighbors\\_classification.py:198: DataConversionWarning: A column-vector y was passed when a 1d array was expected. Please change the shape of y to (n_samples,), for example using ravel().\n",
      "  return self._fit(X, y)\n"
     ]
    },
    {
     "data": {
      "text/plain": [
       "KNeighborsClassifier()"
      ]
     },
     "execution_count": 17,
     "metadata": {},
     "output_type": "execute_result"
    }
   ],
   "source": [
    "from sklearn.neighbors import KNeighborsClassifier  \n",
    "classifier2= KNeighborsClassifier(n_neighbors=5, metric='minkowski', p=2 )  \n",
    "classifier2.fit(x_train, y_train) "
   ]
  },
  {
   "cell_type": "code",
   "execution_count": 18,
   "id": "289f21d0",
   "metadata": {},
   "outputs": [
    {
     "name": "stderr",
     "output_type": "stream",
     "text": [
      "C:\\Users\\admin\\anaconda3\\lib\\site-packages\\sklearn\\neighbors\\_classification.py:228: FutureWarning: Unlike other reduction functions (e.g. `skew`, `kurtosis`), the default behavior of `mode` typically preserves the axis it acts along. In SciPy 1.11.0, this behavior will change: the default value of `keepdims` will become False, the `axis` over which the statistic is taken will be eliminated, and the value None will no longer be accepted. Set `keepdims` to True or False to avoid this warning.\n",
      "  mode, _ = stats.mode(_y[neigh_ind, k], axis=1)\n"
     ]
    }
   ],
   "source": [
    "y_pred2= classifier2.predict(x_test)"
   ]
  },
  {
   "cell_type": "code",
   "execution_count": 19,
   "id": "bc0289e3",
   "metadata": {},
   "outputs": [
    {
     "name": "stdout",
     "output_type": "stream",
     "text": [
      "[[13229  1810]\n",
      " [ 1621  4364]]\n"
     ]
    }
   ],
   "source": [
    "#Confusion Matrix - verify accuracy of each class\n",
    "cm = confusion_matrix(y_test, y_pred2)\n",
    "print(cm)"
   ]
  },
  {
   "cell_type": "code",
   "execution_count": 20,
   "id": "5a02e3e9",
   "metadata": {},
   "outputs": [
    {
     "name": "stdout",
     "output_type": "stream",
     "text": [
      "              precision    recall  f1-score   support\n",
      "\n",
      "     Class 0      0.891     0.880     0.885     15039\n",
      "     Class 1      0.707     0.729     0.718      5985\n",
      "\n",
      "    accuracy                          0.837     21024\n",
      "   macro avg      0.799     0.804     0.802     21024\n",
      "weighted avg      0.838     0.837     0.838     21024\n",
      "\n"
     ]
    }
   ],
   "source": [
    "from sklearn.metrics import classification_report\n",
    "\n",
    "# print(class_labels)\n",
    "target_names = ['Class 0', 'Class 1']\n",
    "print(classification_report(y_test, y_pred2, target_names=target_names,digits=3))"
   ]
  },
  {
   "cell_type": "code",
   "execution_count": null,
   "id": "899ceb9c",
   "metadata": {},
   "outputs": [],
   "source": [
    "################################################################################################################################"
   ]
  },
  {
   "cell_type": "code",
   "execution_count": 21,
   "id": "5a571266",
   "metadata": {},
   "outputs": [
    {
     "name": "stderr",
     "output_type": "stream",
     "text": [
      "C:\\Users\\admin\\anaconda3\\lib\\site-packages\\sklearn\\utils\\validation.py:993: DataConversionWarning: A column-vector y was passed when a 1d array was expected. Please change the shape of y to (n_samples, ), for example using ravel().\n",
      "  y = column_or_1d(y, warn=True)\n"
     ]
    },
    {
     "data": {
      "text/plain": [
       "GaussianNB()"
      ]
     },
     "execution_count": 21,
     "metadata": {},
     "output_type": "execute_result"
    }
   ],
   "source": [
    "from sklearn.naive_bayes import GaussianNB  \n",
    "classifier3 = GaussianNB()  \n",
    "classifier3.fit(x_train, y_train) "
   ]
  },
  {
   "cell_type": "code",
   "execution_count": 22,
   "id": "df81c629",
   "metadata": {},
   "outputs": [],
   "source": [
    "y_pred3 = classifier3.predict(x_test)"
   ]
  },
  {
   "cell_type": "code",
   "execution_count": 23,
   "id": "d5cac6e6",
   "metadata": {},
   "outputs": [
    {
     "name": "stdout",
     "output_type": "stream",
     "text": [
      "[[14127   912]\n",
      " [ 1062  4923]]\n"
     ]
    }
   ],
   "source": [
    "#Confusion Matrix - verify accuracy of each class\n",
    "cm = confusion_matrix(y_test, y_pred3)\n",
    "print(cm)"
   ]
  },
  {
   "cell_type": "code",
   "execution_count": 24,
   "id": "babb8b6b",
   "metadata": {},
   "outputs": [
    {
     "name": "stdout",
     "output_type": "stream",
     "text": [
      "              precision    recall  f1-score   support\n",
      "\n",
      "     Class 0      0.930     0.939     0.935     15039\n",
      "     Class 1      0.844     0.823     0.833      5985\n",
      "\n",
      "    accuracy                          0.906     21024\n",
      "   macro avg      0.887     0.881     0.884     21024\n",
      "weighted avg      0.905     0.906     0.906     21024\n",
      "\n"
     ]
    }
   ],
   "source": [
    "from sklearn.metrics import classification_report\n",
    "\n",
    "# print(class_labels)\n",
    "target_names = ['Class 0', 'Class 1']\n",
    "print(classification_report(y_test, y_pred3, target_names=target_names,digits=3))"
   ]
  },
  {
   "cell_type": "code",
   "execution_count": null,
   "id": "3ec8011e",
   "metadata": {},
   "outputs": [],
   "source": [
    "################################################################################################################################"
   ]
  },
  {
   "cell_type": "code",
   "execution_count": 25,
   "id": "c04cd6c6",
   "metadata": {},
   "outputs": [
    {
     "data": {
      "text/plain": [
       "DecisionTreeClassifier(criterion='entropy', random_state=0)"
      ]
     },
     "execution_count": 25,
     "metadata": {},
     "output_type": "execute_result"
    }
   ],
   "source": [
    "from sklearn.tree import DecisionTreeClassifier\n",
    "classifier4= DecisionTreeClassifier(criterion='entropy', random_state=0)\n",
    "classifier4.fit(x_train, y_train)"
   ]
  },
  {
   "cell_type": "code",
   "execution_count": 26,
   "id": "b7189923",
   "metadata": {},
   "outputs": [],
   "source": [
    "y_pred4= classifier4.predict(x_test)"
   ]
  },
  {
   "cell_type": "code",
   "execution_count": 27,
   "id": "62e1a831",
   "metadata": {},
   "outputs": [
    {
     "name": "stdout",
     "output_type": "stream",
     "text": [
      "[[15037     2]\n",
      " [    2  5983]]\n"
     ]
    }
   ],
   "source": [
    "#Confusion Matrix - verify accuracy of each class\n",
    "cm = confusion_matrix(y_test, y_pred4)\n",
    "print(cm)"
   ]
  },
  {
   "cell_type": "code",
   "execution_count": 28,
   "id": "15b9ea98",
   "metadata": {},
   "outputs": [
    {
     "name": "stdout",
     "output_type": "stream",
     "text": [
      "              precision    recall  f1-score   support\n",
      "\n",
      "     Class 0      1.000     1.000     1.000     15039\n",
      "     Class 1      1.000     1.000     1.000      5985\n",
      "\n",
      "    accuracy                          1.000     21024\n",
      "   macro avg      1.000     1.000     1.000     21024\n",
      "weighted avg      1.000     1.000     1.000     21024\n",
      "\n"
     ]
    }
   ],
   "source": [
    "from sklearn.metrics import classification_report\n",
    "\n",
    "# print(class_labels)\n",
    "target_names = ['Class 0', 'Class 1']\n",
    "print(classification_report(y_test, y_pred4, target_names=target_names,digits=3))"
   ]
  },
  {
   "cell_type": "code",
   "execution_count": null,
   "id": "03a9b311",
   "metadata": {},
   "outputs": [],
   "source": [
    "################################################################################################################################"
   ]
  }
 ],
 "metadata": {
  "kernelspec": {
   "display_name": "Python 3 (ipykernel)",
   "language": "python",
   "name": "python3"
  },
  "language_info": {
   "codemirror_mode": {
    "name": "ipython",
    "version": 3
   },
   "file_extension": ".py",
   "mimetype": "text/x-python",
   "name": "python",
   "nbconvert_exporter": "python",
   "pygments_lexer": "ipython3",
   "version": "3.9.13"
  }
 },
 "nbformat": 4,
 "nbformat_minor": 5
}
