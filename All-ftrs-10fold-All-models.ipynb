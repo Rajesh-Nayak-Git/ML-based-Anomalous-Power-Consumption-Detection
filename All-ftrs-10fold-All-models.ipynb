{
 "cells": [
  {
   "cell_type": "code",
   "execution_count": 1,
   "id": "88671ae9",
   "metadata": {},
   "outputs": [],
   "source": [
    "import pandas as pd\n",
    "from sklearn.utils import shuffle\n",
    "from sklearn.model_selection import cross_validate, KFold\n",
    "from sklearn.ensemble import RandomForestClassifier\n",
    "from sklearn.svm import SVC\n",
    "from sklearn.neighbors import KNeighborsClassifier\n",
    "from sklearn.naive_bayes import GaussianNB\n",
    "from sklearn.tree import DecisionTreeClassifier\n",
    "from sklearn.metrics import make_scorer, accuracy_score, precision_score, recall_score, f1_score"
   ]
  },
  {
   "cell_type": "code",
   "execution_count": 2,
   "id": "cb415bd7",
   "metadata": {},
   "outputs": [],
   "source": [
    "df = pd.read_csv('NewSimDataset-Final.csv')"
   ]
  },
  {
   "cell_type": "code",
   "execution_count": 3,
   "id": "9b09edd3",
   "metadata": {},
   "outputs": [
    {
     "data": {
      "text/html": [
       "<div>\n",
       "<style scoped>\n",
       "    .dataframe tbody tr th:only-of-type {\n",
       "        vertical-align: middle;\n",
       "    }\n",
       "\n",
       "    .dataframe tbody tr th {\n",
       "        vertical-align: top;\n",
       "    }\n",
       "\n",
       "    .dataframe thead th {\n",
       "        text-align: right;\n",
       "    }\n",
       "</style>\n",
       "<table border=\"1\" class=\"dataframe\">\n",
       "  <thead>\n",
       "    <tr style=\"text-align: right;\">\n",
       "      <th></th>\n",
       "      <th>Occupancy</th>\n",
       "      <th>Appliance ID</th>\n",
       "      <th>Sin(time)</th>\n",
       "      <th>Cos(time)</th>\n",
       "      <th>Sin(day)</th>\n",
       "      <th>Cos(day)</th>\n",
       "      <th>Power consumption</th>\n",
       "      <th>Normalized power</th>\n",
       "      <th>P(t)-P(t-1)</th>\n",
       "      <th>P(t)-P(t+1)</th>\n",
       "      <th>Class Label</th>\n",
       "    </tr>\n",
       "  </thead>\n",
       "  <tbody>\n",
       "    <tr>\n",
       "      <th>0</th>\n",
       "      <td>1</td>\n",
       "      <td>0</td>\n",
       "      <td>0.00000</td>\n",
       "      <td>1.00000</td>\n",
       "      <td>0.000000</td>\n",
       "      <td>1.00000</td>\n",
       "      <td>0</td>\n",
       "      <td>-0.22789</td>\n",
       "      <td>0</td>\n",
       "      <td>0</td>\n",
       "      <td>0</td>\n",
       "    </tr>\n",
       "    <tr>\n",
       "      <th>1</th>\n",
       "      <td>0</td>\n",
       "      <td>0</td>\n",
       "      <td>0.25882</td>\n",
       "      <td>0.96593</td>\n",
       "      <td>0.000000</td>\n",
       "      <td>1.00000</td>\n",
       "      <td>0</td>\n",
       "      <td>-0.22789</td>\n",
       "      <td>0</td>\n",
       "      <td>0</td>\n",
       "      <td>0</td>\n",
       "    </tr>\n",
       "    <tr>\n",
       "      <th>2</th>\n",
       "      <td>1</td>\n",
       "      <td>0</td>\n",
       "      <td>0.50000</td>\n",
       "      <td>0.86603</td>\n",
       "      <td>0.000000</td>\n",
       "      <td>1.00000</td>\n",
       "      <td>0</td>\n",
       "      <td>-0.22789</td>\n",
       "      <td>0</td>\n",
       "      <td>0</td>\n",
       "      <td>0</td>\n",
       "    </tr>\n",
       "    <tr>\n",
       "      <th>3</th>\n",
       "      <td>0</td>\n",
       "      <td>0</td>\n",
       "      <td>0.70711</td>\n",
       "      <td>0.70711</td>\n",
       "      <td>0.000000</td>\n",
       "      <td>1.00000</td>\n",
       "      <td>0</td>\n",
       "      <td>-0.22789</td>\n",
       "      <td>0</td>\n",
       "      <td>0</td>\n",
       "      <td>0</td>\n",
       "    </tr>\n",
       "    <tr>\n",
       "      <th>4</th>\n",
       "      <td>0</td>\n",
       "      <td>0</td>\n",
       "      <td>0.86603</td>\n",
       "      <td>0.50000</td>\n",
       "      <td>0.000000</td>\n",
       "      <td>1.00000</td>\n",
       "      <td>0</td>\n",
       "      <td>-0.22789</td>\n",
       "      <td>0</td>\n",
       "      <td>-60</td>\n",
       "      <td>0</td>\n",
       "    </tr>\n",
       "    <tr>\n",
       "      <th>...</th>\n",
       "      <td>...</td>\n",
       "      <td>...</td>\n",
       "      <td>...</td>\n",
       "      <td>...</td>\n",
       "      <td>...</td>\n",
       "      <td>...</td>\n",
       "      <td>...</td>\n",
       "      <td>...</td>\n",
       "      <td>...</td>\n",
       "      <td>...</td>\n",
       "      <td>...</td>\n",
       "    </tr>\n",
       "    <tr>\n",
       "      <th>105115</th>\n",
       "      <td>0</td>\n",
       "      <td>5</td>\n",
       "      <td>-0.96593</td>\n",
       "      <td>0.25882</td>\n",
       "      <td>-0.017213</td>\n",
       "      <td>0.99985</td>\n",
       "      <td>742</td>\n",
       "      <td>0.18433</td>\n",
       "      <td>-398</td>\n",
       "      <td>-2</td>\n",
       "      <td>4</td>\n",
       "    </tr>\n",
       "    <tr>\n",
       "      <th>105116</th>\n",
       "      <td>0</td>\n",
       "      <td>5</td>\n",
       "      <td>-0.86603</td>\n",
       "      <td>0.50000</td>\n",
       "      <td>-0.017213</td>\n",
       "      <td>0.99985</td>\n",
       "      <td>744</td>\n",
       "      <td>0.18544</td>\n",
       "      <td>2</td>\n",
       "      <td>-609</td>\n",
       "      <td>4</td>\n",
       "    </tr>\n",
       "    <tr>\n",
       "      <th>105117</th>\n",
       "      <td>1</td>\n",
       "      <td>5</td>\n",
       "      <td>-0.70711</td>\n",
       "      <td>0.70711</td>\n",
       "      <td>-0.017213</td>\n",
       "      <td>0.99985</td>\n",
       "      <td>1353</td>\n",
       "      <td>0.52377</td>\n",
       "      <td>609</td>\n",
       "      <td>-118</td>\n",
       "      <td>3</td>\n",
       "    </tr>\n",
       "    <tr>\n",
       "      <th>105118</th>\n",
       "      <td>1</td>\n",
       "      <td>5</td>\n",
       "      <td>-0.50000</td>\n",
       "      <td>0.86603</td>\n",
       "      <td>-0.017213</td>\n",
       "      <td>0.99985</td>\n",
       "      <td>1471</td>\n",
       "      <td>0.58933</td>\n",
       "      <td>118</td>\n",
       "      <td>1471</td>\n",
       "      <td>3</td>\n",
       "    </tr>\n",
       "    <tr>\n",
       "      <th>105119</th>\n",
       "      <td>0</td>\n",
       "      <td>5</td>\n",
       "      <td>-0.25882</td>\n",
       "      <td>0.96593</td>\n",
       "      <td>-0.017213</td>\n",
       "      <td>0.99985</td>\n",
       "      <td>0</td>\n",
       "      <td>-0.22789</td>\n",
       "      <td>-1471</td>\n",
       "      <td>0</td>\n",
       "      <td>2</td>\n",
       "    </tr>\n",
       "  </tbody>\n",
       "</table>\n",
       "<p>105120 rows × 11 columns</p>\n",
       "</div>"
      ],
      "text/plain": [
       "        Occupancy  Appliance ID  Sin(time)  Cos(time)  Sin(day)  Cos(day)  \\\n",
       "0               1             0    0.00000    1.00000  0.000000   1.00000   \n",
       "1               0             0    0.25882    0.96593  0.000000   1.00000   \n",
       "2               1             0    0.50000    0.86603  0.000000   1.00000   \n",
       "3               0             0    0.70711    0.70711  0.000000   1.00000   \n",
       "4               0             0    0.86603    0.50000  0.000000   1.00000   \n",
       "...           ...           ...        ...        ...       ...       ...   \n",
       "105115          0             5   -0.96593    0.25882 -0.017213   0.99985   \n",
       "105116          0             5   -0.86603    0.50000 -0.017213   0.99985   \n",
       "105117          1             5   -0.70711    0.70711 -0.017213   0.99985   \n",
       "105118          1             5   -0.50000    0.86603 -0.017213   0.99985   \n",
       "105119          0             5   -0.25882    0.96593 -0.017213   0.99985   \n",
       "\n",
       "        Power consumption  Normalized power  P(t)-P(t-1)  P(t)-P(t+1)  \\\n",
       "0                       0          -0.22789            0            0   \n",
       "1                       0          -0.22789            0            0   \n",
       "2                       0          -0.22789            0            0   \n",
       "3                       0          -0.22789            0            0   \n",
       "4                       0          -0.22789            0          -60   \n",
       "...                   ...               ...          ...          ...   \n",
       "105115                742           0.18433         -398           -2   \n",
       "105116                744           0.18544            2         -609   \n",
       "105117               1353           0.52377          609         -118   \n",
       "105118               1471           0.58933          118         1471   \n",
       "105119                  0          -0.22789        -1471            0   \n",
       "\n",
       "        Class Label  \n",
       "0                 0  \n",
       "1                 0  \n",
       "2                 0  \n",
       "3                 0  \n",
       "4                 0  \n",
       "...             ...  \n",
       "105115            4  \n",
       "105116            4  \n",
       "105117            3  \n",
       "105118            3  \n",
       "105119            2  \n",
       "\n",
       "[105120 rows x 11 columns]"
      ]
     },
     "execution_count": 3,
     "metadata": {},
     "output_type": "execute_result"
    }
   ],
   "source": [
    "df"
   ]
  },
  {
   "cell_type": "code",
   "execution_count": 4,
   "id": "9568ed65",
   "metadata": {},
   "outputs": [],
   "source": [
    "df1 = shuffle(df)"
   ]
  },
  {
   "cell_type": "code",
   "execution_count": 5,
   "id": "9539eb9e",
   "metadata": {},
   "outputs": [],
   "source": [
    "x = df1.drop('Class Label', axis=1)\n",
    "y = df1['Class Label']"
   ]
  },
  {
   "cell_type": "code",
   "execution_count": 6,
   "id": "fa27aea6",
   "metadata": {},
   "outputs": [],
   "source": [
    "model1 = RandomForestClassifier(n_estimators=100, criterion=\"entropy\")\n",
    "model2 = SVC(kernel='rbf',random_state=1)\n",
    "model3 = KNeighborsClassifier(n_neighbors=5, metric='minkowski', p=2)\n",
    "model4 = GaussianNB()\n",
    "model5 = DecisionTreeClassifier(criterion='entropy', random_state=0)"
   ]
  },
  {
   "cell_type": "code",
   "execution_count": 7,
   "id": "c0c54a93",
   "metadata": {},
   "outputs": [],
   "source": [
    "scoring = {\n",
    "    'accuracy': make_scorer(accuracy_score),\n",
    "    'precision_macro': make_scorer(precision_score, average='macro'),\n",
    "    'precision_weighted': make_scorer(precision_score, average='weighted'),\n",
    "    'recall_macro': make_scorer(recall_score, average='macro'),\n",
    "    'recall_weighted': make_scorer(recall_score, average='weighted'),\n",
    "    'f1_score_macro': make_scorer(f1_score, average='macro'),\n",
    "    'f1_score_weighted': make_scorer(f1_score, average='weighted')\n",
    "}"
   ]
  },
  {
   "cell_type": "code",
   "execution_count": 8,
   "id": "eff1a7c6",
   "metadata": {
    "scrolled": true
   },
   "outputs": [],
   "source": [
    "kfold = KFold(n_splits=10, shuffle=False)"
   ]
  },
  {
   "cell_type": "code",
   "execution_count": 9,
   "id": "7abe9561",
   "metadata": {},
   "outputs": [],
   "source": [
    "model_scores1 = cross_validate(model1, x, y, cv=kfold, scoring=scoring)"
   ]
  },
  {
   "cell_type": "code",
   "execution_count": 13,
   "id": "f65333dd",
   "metadata": {},
   "outputs": [],
   "source": [
    "model_scores2 = cross_validate(model2, x, y, cv=kfold, scoring=scoring)"
   ]
  },
  {
   "cell_type": "code",
   "execution_count": 10,
   "id": "550fa837",
   "metadata": {
    "collapsed": true
   },
   "outputs": [
    {
     "name": "stderr",
     "output_type": "stream",
     "text": [
      "C:\\Users\\admin\\anaconda3\\lib\\site-packages\\sklearn\\neighbors\\_classification.py:228: FutureWarning: Unlike other reduction functions (e.g. `skew`, `kurtosis`), the default behavior of `mode` typically preserves the axis it acts along. In SciPy 1.11.0, this behavior will change: the default value of `keepdims` will become False, the `axis` over which the statistic is taken will be eliminated, and the value None will no longer be accepted. Set `keepdims` to True or False to avoid this warning.\n",
      "  mode, _ = stats.mode(_y[neigh_ind, k], axis=1)\n",
      "C:\\Users\\admin\\anaconda3\\lib\\site-packages\\sklearn\\neighbors\\_classification.py:228: FutureWarning: Unlike other reduction functions (e.g. `skew`, `kurtosis`), the default behavior of `mode` typically preserves the axis it acts along. In SciPy 1.11.0, this behavior will change: the default value of `keepdims` will become False, the `axis` over which the statistic is taken will be eliminated, and the value None will no longer be accepted. Set `keepdims` to True or False to avoid this warning.\n",
      "  mode, _ = stats.mode(_y[neigh_ind, k], axis=1)\n",
      "C:\\Users\\admin\\anaconda3\\lib\\site-packages\\sklearn\\neighbors\\_classification.py:228: FutureWarning: Unlike other reduction functions (e.g. `skew`, `kurtosis`), the default behavior of `mode` typically preserves the axis it acts along. In SciPy 1.11.0, this behavior will change: the default value of `keepdims` will become False, the `axis` over which the statistic is taken will be eliminated, and the value None will no longer be accepted. Set `keepdims` to True or False to avoid this warning.\n",
      "  mode, _ = stats.mode(_y[neigh_ind, k], axis=1)\n",
      "C:\\Users\\admin\\anaconda3\\lib\\site-packages\\sklearn\\neighbors\\_classification.py:228: FutureWarning: Unlike other reduction functions (e.g. `skew`, `kurtosis`), the default behavior of `mode` typically preserves the axis it acts along. In SciPy 1.11.0, this behavior will change: the default value of `keepdims` will become False, the `axis` over which the statistic is taken will be eliminated, and the value None will no longer be accepted. Set `keepdims` to True or False to avoid this warning.\n",
      "  mode, _ = stats.mode(_y[neigh_ind, k], axis=1)\n",
      "C:\\Users\\admin\\anaconda3\\lib\\site-packages\\sklearn\\neighbors\\_classification.py:228: FutureWarning: Unlike other reduction functions (e.g. `skew`, `kurtosis`), the default behavior of `mode` typically preserves the axis it acts along. In SciPy 1.11.0, this behavior will change: the default value of `keepdims` will become False, the `axis` over which the statistic is taken will be eliminated, and the value None will no longer be accepted. Set `keepdims` to True or False to avoid this warning.\n",
      "  mode, _ = stats.mode(_y[neigh_ind, k], axis=1)\n",
      "C:\\Users\\admin\\anaconda3\\lib\\site-packages\\sklearn\\neighbors\\_classification.py:228: FutureWarning: Unlike other reduction functions (e.g. `skew`, `kurtosis`), the default behavior of `mode` typically preserves the axis it acts along. In SciPy 1.11.0, this behavior will change: the default value of `keepdims` will become False, the `axis` over which the statistic is taken will be eliminated, and the value None will no longer be accepted. Set `keepdims` to True or False to avoid this warning.\n",
      "  mode, _ = stats.mode(_y[neigh_ind, k], axis=1)\n",
      "C:\\Users\\admin\\anaconda3\\lib\\site-packages\\sklearn\\neighbors\\_classification.py:228: FutureWarning: Unlike other reduction functions (e.g. `skew`, `kurtosis`), the default behavior of `mode` typically preserves the axis it acts along. In SciPy 1.11.0, this behavior will change: the default value of `keepdims` will become False, the `axis` over which the statistic is taken will be eliminated, and the value None will no longer be accepted. Set `keepdims` to True or False to avoid this warning.\n",
      "  mode, _ = stats.mode(_y[neigh_ind, k], axis=1)\n",
      "C:\\Users\\admin\\anaconda3\\lib\\site-packages\\sklearn\\neighbors\\_classification.py:228: FutureWarning: Unlike other reduction functions (e.g. `skew`, `kurtosis`), the default behavior of `mode` typically preserves the axis it acts along. In SciPy 1.11.0, this behavior will change: the default value of `keepdims` will become False, the `axis` over which the statistic is taken will be eliminated, and the value None will no longer be accepted. Set `keepdims` to True or False to avoid this warning.\n",
      "  mode, _ = stats.mode(_y[neigh_ind, k], axis=1)\n",
      "C:\\Users\\admin\\anaconda3\\lib\\site-packages\\sklearn\\neighbors\\_classification.py:228: FutureWarning: Unlike other reduction functions (e.g. `skew`, `kurtosis`), the default behavior of `mode` typically preserves the axis it acts along. In SciPy 1.11.0, this behavior will change: the default value of `keepdims` will become False, the `axis` over which the statistic is taken will be eliminated, and the value None will no longer be accepted. Set `keepdims` to True or False to avoid this warning.\n",
      "  mode, _ = stats.mode(_y[neigh_ind, k], axis=1)\n",
      "C:\\Users\\admin\\anaconda3\\lib\\site-packages\\sklearn\\neighbors\\_classification.py:228: FutureWarning: Unlike other reduction functions (e.g. `skew`, `kurtosis`), the default behavior of `mode` typically preserves the axis it acts along. In SciPy 1.11.0, this behavior will change: the default value of `keepdims` will become False, the `axis` over which the statistic is taken will be eliminated, and the value None will no longer be accepted. Set `keepdims` to True or False to avoid this warning.\n",
      "  mode, _ = stats.mode(_y[neigh_ind, k], axis=1)\n"
     ]
    }
   ],
   "source": [
    "model_scores3 = cross_validate(model3, x, y, cv=kfold, scoring=scoring)"
   ]
  },
  {
   "cell_type": "code",
   "execution_count": 11,
   "id": "5fcaea12",
   "metadata": {},
   "outputs": [],
   "source": [
    "model_scores4 = cross_validate(model4, x, y, cv=kfold, scoring=scoring)"
   ]
  },
  {
   "cell_type": "code",
   "execution_count": 12,
   "id": "c37f6d9a",
   "metadata": {},
   "outputs": [],
   "source": [
    "model_scores5 = cross_validate(model5, x, y, cv=kfold, scoring=scoring)"
   ]
  },
  {
   "cell_type": "code",
   "execution_count": 14,
   "id": "fc32ccc7",
   "metadata": {},
   "outputs": [],
   "source": [
    "import statistics"
   ]
  },
  {
   "cell_type": "code",
   "execution_count": 15,
   "id": "bab07d59",
   "metadata": {},
   "outputs": [
    {
     "name": "stdout",
     "output_type": "stream",
     "text": [
      "Model RF - accuracy: 1.000, 1.000, 1.000, 1.000, 1.000, 1.000, 1.000, 1.000, 1.000, 1.000 - Average: 1.000\n",
      "Model RF - precision_macro: 1.000, 1.000, 1.000, 1.000, 1.000, 1.000, 1.000, 1.000, 1.000, 0.999 - Average: 1.000\n",
      "Model RF - precision_weighted: 1.000, 1.000, 1.000, 1.000, 1.000, 1.000, 1.000, 1.000, 1.000, 1.000 - Average: 1.000\n",
      "Model RF - recall_macro: 1.000, 1.000, 1.000, 1.000, 1.000, 1.000, 1.000, 1.000, 1.000, 1.000 - Average: 1.000\n",
      "Model RF - recall_weighted: 1.000, 1.000, 1.000, 1.000, 1.000, 1.000, 1.000, 1.000, 1.000, 1.000 - Average: 1.000\n",
      "Model RF - f1_score_macro: 1.000, 1.000, 1.000, 1.000, 1.000, 1.000, 1.000, 1.000, 1.000, 0.999 - Average: 1.000\n",
      "Model RF - f1_score_weighted: 1.000, 1.000, 1.000, 1.000, 1.000, 1.000, 1.000, 1.000, 1.000, 1.000 - Average: 1.000\n"
     ]
    }
   ],
   "source": [
    "for metric in scoring:\n",
    "    metric_scores1 = model_scores1[f'test_{metric}'].tolist()\n",
    "    avg_score1 = statistics.mean(metric_scores1)\n",
    "    formatted_scores1 = [f\"{score:.3f}\" for score in metric_scores1]\n",
    "    print(f\"Model RF - {metric}: {', '.join(formatted_scores1)} - Average: {avg_score1:.3f}\")"
   ]
  },
  {
   "cell_type": "code",
   "execution_count": 16,
   "id": "e6b14270",
   "metadata": {},
   "outputs": [
    {
     "name": "stdout",
     "output_type": "stream",
     "text": [
      "Model SVM - accuracy: 0.763, 0.765, 0.760, 0.762, 0.760, 0.758, 0.762, 0.768, 0.766, 0.763 - Average: 0.763\n",
      "Model SVM - precision_macro: 0.807, 0.813, 0.798, 0.806, 0.801, 0.802, 0.800, 0.811, 0.809, 0.807 - Average: 0.805\n",
      "Model SVM - precision_weighted: 0.732, 0.737, 0.726, 0.731, 0.726, 0.726, 0.728, 0.737, 0.737, 0.733 - Average: 0.731\n",
      "Model SVM - recall_macro: 0.807, 0.804, 0.805, 0.807, 0.800, 0.805, 0.803, 0.811, 0.804, 0.806 - Average: 0.805\n",
      "Model SVM - recall_weighted: 0.763, 0.765, 0.760, 0.762, 0.760, 0.758, 0.762, 0.768, 0.766, 0.763 - Average: 0.763\n",
      "Model SVM - f1_score_macro: 0.793, 0.789, 0.786, 0.789, 0.787, 0.789, 0.786, 0.796, 0.792, 0.794 - Average: 0.790\n",
      "Model SVM - f1_score_weighted: 0.730, 0.726, 0.724, 0.725, 0.726, 0.724, 0.727, 0.734, 0.733, 0.732 - Average: 0.728\n"
     ]
    }
   ],
   "source": [
    "for metric in scoring:\n",
    "    metric_scores2 = model_scores2[f'test_{metric}'].tolist()\n",
    "    avg_score2 = statistics.mean(metric_scores2)\n",
    "    formatted_scores2 = [f\"{score:.3f}\" for score in metric_scores2]\n",
    "    print(f\"Model SVM - {metric}: {', '.join(formatted_scores2)} - Average: {avg_score2:.3f}\")"
   ]
  },
  {
   "cell_type": "code",
   "execution_count": 17,
   "id": "c4686b36",
   "metadata": {},
   "outputs": [
    {
     "name": "stdout",
     "output_type": "stream",
     "text": [
      "Model KNN - accuracy: 0.833, 0.836, 0.830, 0.831, 0.830, 0.833, 0.833, 0.838, 0.828, 0.830 - Average: 0.832\n",
      "Model KNN - precision_macro: 0.879, 0.882, 0.873, 0.875, 0.877, 0.879, 0.878, 0.884, 0.877, 0.877 - Average: 0.878\n",
      "Model KNN - precision_weighted: 0.832, 0.834, 0.827, 0.829, 0.828, 0.831, 0.831, 0.836, 0.826, 0.828 - Average: 0.830\n",
      "Model KNN - recall_macro: 0.888, 0.889, 0.887, 0.887, 0.885, 0.889, 0.888, 0.892, 0.885, 0.885 - Average: 0.888\n",
      "Model KNN - recall_weighted: 0.833, 0.836, 0.830, 0.831, 0.830, 0.833, 0.833, 0.838, 0.828, 0.830 - Average: 0.832\n",
      "Model KNN - f1_score_macro: 0.884, 0.885, 0.879, 0.880, 0.881, 0.884, 0.883, 0.888, 0.881, 0.881 - Average: 0.883\n",
      "Model KNN - f1_score_weighted: 0.832, 0.835, 0.828, 0.830, 0.829, 0.832, 0.832, 0.837, 0.827, 0.829 - Average: 0.831\n"
     ]
    }
   ],
   "source": [
    "for metric in scoring:\n",
    "    metric_scores3 = model_scores3[f'test_{metric}'].tolist()\n",
    "    avg_score3 = statistics.mean(metric_scores3)\n",
    "    formatted_scores3 = [f\"{score:.3f}\" for score in metric_scores3]\n",
    "    print(f\"Model KNN - {metric}: {', '.join(formatted_scores3)} - Average: {avg_score3:.3f}\")"
   ]
  },
  {
   "cell_type": "code",
   "execution_count": 18,
   "id": "3f7c9adc",
   "metadata": {},
   "outputs": [
    {
     "name": "stdout",
     "output_type": "stream",
     "text": [
      "Model NB - accuracy: 0.540, 0.539, 0.527, 0.532, 0.534, 0.539, 0.528, 0.531, 0.535, 0.526 - Average: 0.533\n",
      "Model NB - precision_macro: 0.604, 0.600, 0.587, 0.593, 0.601, 0.604, 0.593, 0.596, 0.591, 0.585 - Average: 0.595\n",
      "Model NB - precision_weighted: 0.774, 0.772, 0.770, 0.771, 0.777, 0.780, 0.761, 0.771, 0.773, 0.770 - Average: 0.772\n",
      "Model NB - recall_macro: 0.667, 0.661, 0.663, 0.654, 0.668, 0.669, 0.659, 0.662, 0.663, 0.659 - Average: 0.662\n",
      "Model NB - recall_weighted: 0.540, 0.539, 0.527, 0.532, 0.534, 0.539, 0.528, 0.531, 0.535, 0.526 - Average: 0.533\n",
      "Model NB - f1_score_macro: 0.528, 0.521, 0.516, 0.514, 0.525, 0.529, 0.517, 0.518, 0.520, 0.512 - Average: 0.520\n",
      "Model NB - f1_score_weighted: 0.553, 0.549, 0.541, 0.544, 0.550, 0.554, 0.538, 0.544, 0.549, 0.539 - Average: 0.546\n"
     ]
    }
   ],
   "source": [
    "for metric in scoring:\n",
    "    metric_scores4 = model_scores4[f'test_{metric}'].tolist()\n",
    "    avg_score4 = statistics.mean(metric_scores4)\n",
    "    formatted_scores4 = [f\"{score:.3f}\" for score in metric_scores4]\n",
    "    print(f\"Model NB - {metric}: {', '.join(formatted_scores4)} - Average: {avg_score4:.3f}\")"
   ]
  },
  {
   "cell_type": "code",
   "execution_count": 19,
   "id": "137dcf79",
   "metadata": {},
   "outputs": [
    {
     "name": "stdout",
     "output_type": "stream",
     "text": [
      "Model DT - accuracy: 1.000, 1.000, 1.000, 1.000, 1.000, 0.999, 1.000, 0.999, 0.999, 1.000 - Average: 1.000\n",
      "Model DT - precision_macro: 1.000, 1.000, 1.000, 0.999, 0.999, 0.999, 1.000, 0.999, 0.999, 0.999 - Average: 0.999\n",
      "Model DT - precision_weighted: 1.000, 1.000, 1.000, 1.000, 1.000, 0.999, 1.000, 0.999, 0.999, 1.000 - Average: 1.000\n",
      "Model DT - recall_macro: 0.999, 1.000, 1.000, 0.999, 1.000, 0.999, 0.999, 0.999, 0.998, 1.000 - Average: 0.999\n",
      "Model DT - recall_weighted: 1.000, 1.000, 1.000, 1.000, 1.000, 0.999, 1.000, 0.999, 0.999, 1.000 - Average: 1.000\n",
      "Model DT - f1_score_macro: 0.999, 1.000, 1.000, 0.999, 0.999, 0.999, 1.000, 0.999, 0.998, 0.999 - Average: 0.999\n",
      "Model DT - f1_score_weighted: 1.000, 1.000, 1.000, 1.000, 1.000, 0.999, 1.000, 0.999, 0.999, 1.000 - Average: 1.000\n"
     ]
    }
   ],
   "source": [
    "for metric in scoring:\n",
    "    metric_scores5 = model_scores5[f'test_{metric}'].tolist()\n",
    "    avg_score5 = statistics.mean(metric_scores5)\n",
    "    formatted_scores5 = [f\"{score:.3f}\" for score in metric_scores5]\n",
    "    print(f\"Model DT - {metric}: {', '.join(formatted_scores5)} - Average: {avg_score5:.3f}\")"
   ]
  }
 ],
 "metadata": {
  "kernelspec": {
   "display_name": "Python 3 (ipykernel)",
   "language": "python",
   "name": "python3"
  },
  "language_info": {
   "codemirror_mode": {
    "name": "ipython",
    "version": 3
   },
   "file_extension": ".py",
   "mimetype": "text/x-python",
   "name": "python",
   "nbconvert_exporter": "python",
   "pygments_lexer": "ipython3",
   "version": "3.9.13"
  }
 },
 "nbformat": 4,
 "nbformat_minor": 5
}
